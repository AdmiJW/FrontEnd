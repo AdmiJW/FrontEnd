{
 "cells": [
  {
   "cell_type": "markdown",
   "metadata": {},
   "source": [
    "![Bar](https://github.com/AdmiJW/Items/blob/master/SeperatingBars/Horizontalbar_blue.png?raw=true)\n",
    "\n",
    "# 1.0 - Demographic Data Analyser\n",
    "\n",
    "![Bar](https://raw.githubusercontent.com/AdmiJW/Items/master/SeperatingBars/Horizontalbar_blue.png)"
   ]
  },
  {
   "cell_type": "markdown",
   "metadata": {},
   "source": [
    "\n",
    "\n",
    "\n",
    "### 1.1 - Traditional way: Fetching data and store in Python lists\n",
    "\n",
    "The Non-pandas way to fetch the csv file is much more lengthy and we have to do it ourselves. Here I implemented a CSV file parser.\n",
    "\n",
    "Parameters:\n",
    "* `url` - The url to the csv file. Either a http url or local file path\n",
    "* `delimiter` - **(Optional)** The delimiter used in csv file. Default value is comma `,`\n",
    "\n",
    "Returns a List containing List items which consists of the values parsed."
   ]
  },
  {
   "cell_type": "code",
   "execution_count": 3,
   "metadata": {},
   "outputs": [],
   "source": [
    "import requests\n",
    "from typing import *\n",
    "\n",
    "def fetchCsv( url: str, delimiter: str = ',' ) -> List:\n",
    "    #   Invalid delimiter of csv provided. Just raise an exception\n",
    "    if ( len(delimiter) != 1 ):\n",
    "        raise ValueError(\"Delimiter must be a single character!\")\n",
    "\n",
    "    #   Fetch the csv file at the provided url\n",
    "    response = requests.get( url )\n",
    "\n",
    "    #   Unable to fetch the csv file in provided url. Raise an exception for that\n",
    "    if (response.status_code != 200 ):\n",
    "        raise ConnectionError(\"Error: Unable to fetch the csv file at {}\\n\\\n",
    "                status code: {}\".format(url, response.status_code) )\n",
    "\n",
    "    #   Obtain the text, split them into lines (Based on \\r\\n )\n",
    "    responseText = response.text\n",
    "    responseList = responseText.split('\\r\\n')\n",
    "\n",
    "    #   Map each line into a list of values split by the delimiter specified.\n",
    "    responseList = list( map( lambda s: s.split( delimiter ), responseList) )\n",
    "\n",
    "    return responseList"
   ]
  },
  {
   "cell_type": "markdown",
   "metadata": {},
   "source": [
    "\n",
    "\n",
    "Here is a test to test if the function is working correctly"
   ]
  },
  {
   "cell_type": "code",
   "execution_count": 6,
   "metadata": {
    "scrolled": true
   },
   "outputs": [
    {
     "name": "stdout",
     "output_type": "stream",
     "text": [
      "['age', 'workclass', 'fnlwgt', 'education', 'education-num', 'marital-status', 'occupation', 'relationship', 'race', 'sex', 'capital-gain', 'capital-loss', 'hours-per-week', 'native-country', 'salary']\n",
      "['39', 'State-gov', '77516', 'Bachelors', '13', 'Never-married', 'Adm-clerical', 'Not-in-family', 'White', 'Male', '2174', '0', '40', 'United-States', '<=50K']\n",
      "['50', 'Self-emp-not-inc', '83311', 'Bachelors', '13', 'Married-civ-spouse', 'Exec-managerial', 'Husband', 'White', 'Male', '0', '0', '13', 'United-States', '<=50K']\n",
      "['38', 'Private', '215646', 'HS-grad', '9', 'Divorced', 'Handlers-cleaners', 'Not-in-family', 'White', 'Male', '0', '0', '40', 'United-States', '<=50K']\n",
      "['53', 'Private', '234721', '11th', '7', 'Married-civ-spouse', 'Handlers-cleaners', 'Husband', 'Black', 'Male', '0', '0', '40', 'United-States', '<=50K']\n"
     ]
    }
   ],
   "source": [
    "li = fetchCsv('https://raw.githubusercontent.com/AdmiJW/Items/master/adult.data.csv')\n",
    "\n",
    "for i in range(5):\n",
    "    print( li[i] )"
   ]
  },
  {
   "cell_type": "markdown",
   "metadata": {},
   "source": [
    "![Bar](https://github.com/AdmiJW/Items/blob/master/SeperatingBars/Horizontalbar_blue.png?raw=true)\n",
    "\n",
    "### 1.2 - Panda's Way to Fetch CSV Files\n",
    "\n",
    "`pandas` came with a handful functions to read data from various sources. One of which is `pandas.read_csv()` function. It will mostly return a ready to be processed `pandas.DataFrame` object.\n",
    "\n",
    "Here I've written a toned-down version of the `panda`'s `read_csv()` function.\n",
    "\n",
    "Parameters:\n",
    "* `url` - The url to the csv file. Either a http request url or local file path\n",
    "* `delimiter` - **(Optional)** The delimiter to be used to parse the csv file. Default is the comma `,`\n",
    "* `header` - **(Optional)** Takes in boolean value. If True, the first row of csv is considered the header row, and thus will become the column name of the DataFrame. Otherwise no header will be parsed\n"
   ]
  },
  {
   "cell_type": "code",
   "execution_count": 4,
   "metadata": {},
   "outputs": [],
   "source": [
    "import pandas as pd\n",
    "import numpy as np\n",
    "import matplotlib.pyplot as plt\n",
    "\n",
    "def pandasFetchCSV(url:str, delimiter:str = ',', header:bool = False):\n",
    "    df:Union[pd.io.parsers.TextFileReader, pd.Series, pd.DataFrame, None] = pd.read_csv(\n",
    "        url,\n",
    "        sep=delimiter,\n",
    "        header=0 if header else None)\n",
    "\n",
    "    return df"
   ]
  },
  {
   "cell_type": "markdown",
   "metadata": {},
   "source": [
    "\n",
    "\n",
    "We can quickly test the above function here:"
   ]
  },
  {
   "cell_type": "code",
   "execution_count": 12,
   "metadata": {},
   "outputs": [
    {
     "data": {
      "text/html": [
       "<div>\n",
       "<style scoped>\n",
       "    .dataframe tbody tr th:only-of-type {\n",
       "        vertical-align: middle;\n",
       "    }\n",
       "\n",
       "    .dataframe tbody tr th {\n",
       "        vertical-align: top;\n",
       "    }\n",
       "\n",
       "    .dataframe thead th {\n",
       "        text-align: right;\n",
       "    }\n",
       "</style>\n",
       "<table border=\"1\" class=\"dataframe\">\n",
       "  <thead>\n",
       "    <tr style=\"text-align: right;\">\n",
       "      <th></th>\n",
       "      <th>age</th>\n",
       "      <th>workclass</th>\n",
       "      <th>fnlwgt</th>\n",
       "      <th>education</th>\n",
       "      <th>education-num</th>\n",
       "      <th>marital-status</th>\n",
       "      <th>occupation</th>\n",
       "      <th>relationship</th>\n",
       "      <th>race</th>\n",
       "      <th>sex</th>\n",
       "      <th>capital-gain</th>\n",
       "      <th>capital-loss</th>\n",
       "      <th>hours-per-week</th>\n",
       "      <th>native-country</th>\n",
       "      <th>salary</th>\n",
       "    </tr>\n",
       "  </thead>\n",
       "  <tbody>\n",
       "    <tr>\n",
       "      <th>0</th>\n",
       "      <td>39</td>\n",
       "      <td>State-gov</td>\n",
       "      <td>77516</td>\n",
       "      <td>Bachelors</td>\n",
       "      <td>13</td>\n",
       "      <td>Never-married</td>\n",
       "      <td>Adm-clerical</td>\n",
       "      <td>Not-in-family</td>\n",
       "      <td>White</td>\n",
       "      <td>Male</td>\n",
       "      <td>2174</td>\n",
       "      <td>0</td>\n",
       "      <td>40</td>\n",
       "      <td>United-States</td>\n",
       "      <td>&lt;=50K</td>\n",
       "    </tr>\n",
       "    <tr>\n",
       "      <th>1</th>\n",
       "      <td>50</td>\n",
       "      <td>Self-emp-not-inc</td>\n",
       "      <td>83311</td>\n",
       "      <td>Bachelors</td>\n",
       "      <td>13</td>\n",
       "      <td>Married-civ-spouse</td>\n",
       "      <td>Exec-managerial</td>\n",
       "      <td>Husband</td>\n",
       "      <td>White</td>\n",
       "      <td>Male</td>\n",
       "      <td>0</td>\n",
       "      <td>0</td>\n",
       "      <td>13</td>\n",
       "      <td>United-States</td>\n",
       "      <td>&lt;=50K</td>\n",
       "    </tr>\n",
       "    <tr>\n",
       "      <th>2</th>\n",
       "      <td>38</td>\n",
       "      <td>Private</td>\n",
       "      <td>215646</td>\n",
       "      <td>HS-grad</td>\n",
       "      <td>9</td>\n",
       "      <td>Divorced</td>\n",
       "      <td>Handlers-cleaners</td>\n",
       "      <td>Not-in-family</td>\n",
       "      <td>White</td>\n",
       "      <td>Male</td>\n",
       "      <td>0</td>\n",
       "      <td>0</td>\n",
       "      <td>40</td>\n",
       "      <td>United-States</td>\n",
       "      <td>&lt;=50K</td>\n",
       "    </tr>\n",
       "    <tr>\n",
       "      <th>3</th>\n",
       "      <td>53</td>\n",
       "      <td>Private</td>\n",
       "      <td>234721</td>\n",
       "      <td>11th</td>\n",
       "      <td>7</td>\n",
       "      <td>Married-civ-spouse</td>\n",
       "      <td>Handlers-cleaners</td>\n",
       "      <td>Husband</td>\n",
       "      <td>Black</td>\n",
       "      <td>Male</td>\n",
       "      <td>0</td>\n",
       "      <td>0</td>\n",
       "      <td>40</td>\n",
       "      <td>United-States</td>\n",
       "      <td>&lt;=50K</td>\n",
       "    </tr>\n",
       "    <tr>\n",
       "      <th>4</th>\n",
       "      <td>28</td>\n",
       "      <td>Private</td>\n",
       "      <td>338409</td>\n",
       "      <td>Bachelors</td>\n",
       "      <td>13</td>\n",
       "      <td>Married-civ-spouse</td>\n",
       "      <td>Prof-specialty</td>\n",
       "      <td>Wife</td>\n",
       "      <td>Black</td>\n",
       "      <td>Female</td>\n",
       "      <td>0</td>\n",
       "      <td>0</td>\n",
       "      <td>40</td>\n",
       "      <td>Cuba</td>\n",
       "      <td>&lt;=50K</td>\n",
       "    </tr>\n",
       "  </tbody>\n",
       "</table>\n",
       "</div>"
      ],
      "text/plain": [
       "   age         workclass  fnlwgt  education  education-num  \\\n",
       "0   39         State-gov   77516  Bachelors             13   \n",
       "1   50  Self-emp-not-inc   83311  Bachelors             13   \n",
       "2   38           Private  215646    HS-grad              9   \n",
       "3   53           Private  234721       11th              7   \n",
       "4   28           Private  338409  Bachelors             13   \n",
       "\n",
       "       marital-status         occupation   relationship   race     sex  \\\n",
       "0       Never-married       Adm-clerical  Not-in-family  White    Male   \n",
       "1  Married-civ-spouse    Exec-managerial        Husband  White    Male   \n",
       "2            Divorced  Handlers-cleaners  Not-in-family  White    Male   \n",
       "3  Married-civ-spouse  Handlers-cleaners        Husband  Black    Male   \n",
       "4  Married-civ-spouse     Prof-specialty           Wife  Black  Female   \n",
       "\n",
       "   capital-gain  capital-loss  hours-per-week native-country salary  \n",
       "0          2174             0              40  United-States  <=50K  \n",
       "1             0             0              13  United-States  <=50K  \n",
       "2             0             0              40  United-States  <=50K  \n",
       "3             0             0              40  United-States  <=50K  \n",
       "4             0             0              40           Cuba  <=50K  "
      ]
     },
     "execution_count": 12,
     "metadata": {},
     "output_type": "execute_result"
    }
   ],
   "source": [
    "df = pandasFetchCSV('https://raw.githubusercontent.com/AdmiJW/Items/master/adult.data.csv', header=True )\n",
    "\n",
    "df.head()"
   ]
  },
  {
   "cell_type": "markdown",
   "metadata": {},
   "source": [
    "![Bar](https://github.com/AdmiJW/Items/blob/master/SeperatingBars/Horizontalbar_red.png?raw=true)\n",
    "\n",
    "# 2.0 - Actual Fetching and Cleaning up of Data\n",
    "\n",
    "![Bar](https://github.com/AdmiJW/Items/blob/master/SeperatingBars/Horizontalbar_red.png?raw=true)"
   ]
  },
  {
   "cell_type": "markdown",
   "metadata": {},
   "source": [
    "### 2.1 - Fetching of the data\n",
    "\n",
    "Here I'll use the more traditional way of fetching the data: via `requests` library (Function above).\n",
    "\n",
    "Since the returned value is of type `List` containing `List` items of values, I need to pass it into the\n",
    "`pandas` to create a `DataFrame` out of it."
   ]
  },
  {
   "cell_type": "code",
   "execution_count": 5,
   "metadata": {},
   "outputs": [],
   "source": [
    "listItems = fetchCsv('https://raw.githubusercontent.com/AdmiJW/Items/master/adult.data.csv')\n",
    "\n",
    "# Use the DataFrame constructor, passing in the List\n",
    "df = pd.DataFrame(listItems)"
   ]
  },
  {
   "cell_type": "markdown",
   "metadata": {},
   "source": [
    "![Bar](https://github.com/AdmiJW/Items/blob/master/SeperatingBars/Horizontalbar_red.png?raw=true)\n",
    "\n",
    "### 2.2 - Setting Name and Column Name (Header)\n",
    "\n",
    "Now the data are fetched and stored in `DataFrame` object. Let's start by giving a name and header to the DataFrame\n",
    "\n"
   ]
  },
  {
   "cell_type": "code",
   "execution_count": 6,
   "metadata": {},
   "outputs": [],
   "source": [
    "\n",
    "# Set the name of the DataFrame\n",
    "df.name = 'Demographic Analysis Data'\n"
   ]
  },
  {
   "cell_type": "code",
   "execution_count": 7,
   "metadata": {},
   "outputs": [],
   "source": [
    "\n",
    "# Set the column names of the DataFrame, which is on the first row\n",
    "df.columns = df.iloc[0]\n",
    "# Since the first row is now column name, the first row shall be dropped now\n",
    "df.drop( 0, inplace = True )\n"
   ]
  },
  {
   "cell_type": "markdown",
   "metadata": {},
   "source": [
    "![Bar](https://github.com/AdmiJW/Items/blob/master/SeperatingBars/Horizontalbar_red.png?raw=true)\n",
    "\n",
    "### 2.3 - Checking Info of the DataFrame\n",
    "\n",
    "The data may have some basic problems in it. Let's check\n",
    "\n",
    "* Column Datatypes\n",
    "* Head\n",
    "* Tail"
   ]
  },
  {
   "cell_type": "code",
   "execution_count": 8,
   "metadata": {},
   "outputs": [
    {
     "name": "stdout",
     "output_type": "stream",
     "text": [
      "<class 'pandas.core.frame.DataFrame'>\n",
      "Int64Index: 32563 entries, 1 to 32563\n",
      "Data columns (total 15 columns):\n",
      " #   Column          Non-Null Count  Dtype \n",
      "---  ------          --------------  ----- \n",
      " 0   age             32563 non-null  object\n",
      " 1   workclass       32561 non-null  object\n",
      " 2   fnlwgt          32561 non-null  object\n",
      " 3   education       32561 non-null  object\n",
      " 4   education-num   32561 non-null  object\n",
      " 5   marital-status  32561 non-null  object\n",
      " 6   occupation      32561 non-null  object\n",
      " 7   relationship    32561 non-null  object\n",
      " 8   race            32561 non-null  object\n",
      " 9   sex             32561 non-null  object\n",
      " 10  capital-gain    32561 non-null  object\n",
      " 11  capital-loss    32561 non-null  object\n",
      " 12  hours-per-week  32561 non-null  object\n",
      " 13  native-country  32561 non-null  object\n",
      " 14  salary          32561 non-null  object\n",
      "dtypes: object(15)\n",
      "memory usage: 2.1+ MB\n",
      "\n",
      "--------------------------------------------------\n",
      "\n",
      "age is of type -------- <class 'str'>\n",
      "workclass is of type -------- <class 'str'>\n",
      "fnlwgt is of type -------- <class 'str'>\n",
      "education is of type -------- <class 'str'>\n",
      "education-num is of type -------- <class 'str'>\n",
      "marital-status is of type -------- <class 'str'>\n",
      "occupation is of type -------- <class 'str'>\n",
      "relationship is of type -------- <class 'str'>\n",
      "race is of type -------- <class 'str'>\n",
      "sex is of type -------- <class 'str'>\n",
      "capital-gain is of type -------- <class 'str'>\n",
      "capital-loss is of type -------- <class 'str'>\n",
      "hours-per-week is of type -------- <class 'str'>\n",
      "native-country is of type -------- <class 'str'>\n",
      "salary is of type -------- <class 'str'>\n"
     ]
    }
   ],
   "source": [
    "\n",
    "# Let's obtain some info about our DataFrame now\n",
    "\n",
    "df.info()\n",
    "\n",
    "# Seems like all of the columns are of type object, which is very space consuming and hard to analyse!\n",
    "# We shall deal with them one by one!\n",
    "\n",
    "print('\\n--------------------------------------------------\\n')\n",
    "\n",
    "\n",
    "# Actually, what 'object' is it actually? We need to use Python's native type() operator for that.\n",
    "\n",
    "# By iterating through the column names, print the type of the values. We will use the first row as sample\n",
    "# I don't use Series.dtype because it will just straight up return me 'Object'\n",
    "for col in df.columns:\n",
    "    print(col, 'is of type --------', type(df[col][1] ) )\n"
   ]
  },
  {
   "cell_type": "code",
   "execution_count": 9,
   "metadata": {
    "scrolled": true
   },
   "outputs": [
    {
     "data": {
      "text/html": [
       "<div>\n",
       "<style scoped>\n",
       "    .dataframe tbody tr th:only-of-type {\n",
       "        vertical-align: middle;\n",
       "    }\n",
       "\n",
       "    .dataframe tbody tr th {\n",
       "        vertical-align: top;\n",
       "    }\n",
       "\n",
       "    .dataframe thead th {\n",
       "        text-align: right;\n",
       "    }\n",
       "</style>\n",
       "<table border=\"1\" class=\"dataframe\">\n",
       "  <thead>\n",
       "    <tr style=\"text-align: right;\">\n",
       "      <th></th>\n",
       "      <th>age</th>\n",
       "      <th>workclass</th>\n",
       "      <th>fnlwgt</th>\n",
       "      <th>education</th>\n",
       "      <th>education-num</th>\n",
       "      <th>marital-status</th>\n",
       "      <th>occupation</th>\n",
       "      <th>relationship</th>\n",
       "      <th>race</th>\n",
       "      <th>sex</th>\n",
       "      <th>capital-gain</th>\n",
       "      <th>capital-loss</th>\n",
       "      <th>hours-per-week</th>\n",
       "      <th>native-country</th>\n",
       "      <th>salary</th>\n",
       "    </tr>\n",
       "  </thead>\n",
       "  <tbody>\n",
       "    <tr>\n",
       "      <th>1</th>\n",
       "      <td>39</td>\n",
       "      <td>State-gov</td>\n",
       "      <td>77516</td>\n",
       "      <td>Bachelors</td>\n",
       "      <td>13</td>\n",
       "      <td>Never-married</td>\n",
       "      <td>Adm-clerical</td>\n",
       "      <td>Not-in-family</td>\n",
       "      <td>White</td>\n",
       "      <td>Male</td>\n",
       "      <td>2174</td>\n",
       "      <td>0</td>\n",
       "      <td>40</td>\n",
       "      <td>United-States</td>\n",
       "      <td>&lt;=50K</td>\n",
       "    </tr>\n",
       "    <tr>\n",
       "      <th>2</th>\n",
       "      <td>50</td>\n",
       "      <td>Self-emp-not-inc</td>\n",
       "      <td>83311</td>\n",
       "      <td>Bachelors</td>\n",
       "      <td>13</td>\n",
       "      <td>Married-civ-spouse</td>\n",
       "      <td>Exec-managerial</td>\n",
       "      <td>Husband</td>\n",
       "      <td>White</td>\n",
       "      <td>Male</td>\n",
       "      <td>0</td>\n",
       "      <td>0</td>\n",
       "      <td>13</td>\n",
       "      <td>United-States</td>\n",
       "      <td>&lt;=50K</td>\n",
       "    </tr>\n",
       "    <tr>\n",
       "      <th>3</th>\n",
       "      <td>38</td>\n",
       "      <td>Private</td>\n",
       "      <td>215646</td>\n",
       "      <td>HS-grad</td>\n",
       "      <td>9</td>\n",
       "      <td>Divorced</td>\n",
       "      <td>Handlers-cleaners</td>\n",
       "      <td>Not-in-family</td>\n",
       "      <td>White</td>\n",
       "      <td>Male</td>\n",
       "      <td>0</td>\n",
       "      <td>0</td>\n",
       "      <td>40</td>\n",
       "      <td>United-States</td>\n",
       "      <td>&lt;=50K</td>\n",
       "    </tr>\n",
       "    <tr>\n",
       "      <th>4</th>\n",
       "      <td>53</td>\n",
       "      <td>Private</td>\n",
       "      <td>234721</td>\n",
       "      <td>11th</td>\n",
       "      <td>7</td>\n",
       "      <td>Married-civ-spouse</td>\n",
       "      <td>Handlers-cleaners</td>\n",
       "      <td>Husband</td>\n",
       "      <td>Black</td>\n",
       "      <td>Male</td>\n",
       "      <td>0</td>\n",
       "      <td>0</td>\n",
       "      <td>40</td>\n",
       "      <td>United-States</td>\n",
       "      <td>&lt;=50K</td>\n",
       "    </tr>\n",
       "    <tr>\n",
       "      <th>5</th>\n",
       "      <td>28</td>\n",
       "      <td>Private</td>\n",
       "      <td>338409</td>\n",
       "      <td>Bachelors</td>\n",
       "      <td>13</td>\n",
       "      <td>Married-civ-spouse</td>\n",
       "      <td>Prof-specialty</td>\n",
       "      <td>Wife</td>\n",
       "      <td>Black</td>\n",
       "      <td>Female</td>\n",
       "      <td>0</td>\n",
       "      <td>0</td>\n",
       "      <td>40</td>\n",
       "      <td>Cuba</td>\n",
       "      <td>&lt;=50K</td>\n",
       "    </tr>\n",
       "  </tbody>\n",
       "</table>\n",
       "</div>"
      ],
      "text/plain": [
       "0 age         workclass  fnlwgt  education education-num      marital-status  \\\n",
       "1  39         State-gov   77516  Bachelors            13       Never-married   \n",
       "2  50  Self-emp-not-inc   83311  Bachelors            13  Married-civ-spouse   \n",
       "3  38           Private  215646    HS-grad             9            Divorced   \n",
       "4  53           Private  234721       11th             7  Married-civ-spouse   \n",
       "5  28           Private  338409  Bachelors            13  Married-civ-spouse   \n",
       "\n",
       "0         occupation   relationship   race     sex capital-gain capital-loss  \\\n",
       "1       Adm-clerical  Not-in-family  White    Male         2174            0   \n",
       "2    Exec-managerial        Husband  White    Male            0            0   \n",
       "3  Handlers-cleaners  Not-in-family  White    Male            0            0   \n",
       "4  Handlers-cleaners        Husband  Black    Male            0            0   \n",
       "5     Prof-specialty           Wife  Black  Female            0            0   \n",
       "\n",
       "0 hours-per-week native-country salary  \n",
       "1             40  United-States  <=50K  \n",
       "2             13  United-States  <=50K  \n",
       "3             40  United-States  <=50K  \n",
       "4             40  United-States  <=50K  \n",
       "5             40           Cuba  <=50K  "
      ]
     },
     "execution_count": 9,
     "metadata": {},
     "output_type": "execute_result"
    }
   ],
   "source": [
    "# Let's see the head of the DataFrame\n",
    "\n",
    "df.head()"
   ]
  },
  {
   "cell_type": "code",
   "execution_count": 10,
   "metadata": {},
   "outputs": [
    {
     "data": {
      "text/html": [
       "<div>\n",
       "<style scoped>\n",
       "    .dataframe tbody tr th:only-of-type {\n",
       "        vertical-align: middle;\n",
       "    }\n",
       "\n",
       "    .dataframe tbody tr th {\n",
       "        vertical-align: top;\n",
       "    }\n",
       "\n",
       "    .dataframe thead th {\n",
       "        text-align: right;\n",
       "    }\n",
       "</style>\n",
       "<table border=\"1\" class=\"dataframe\">\n",
       "  <thead>\n",
       "    <tr style=\"text-align: right;\">\n",
       "      <th></th>\n",
       "      <th>age</th>\n",
       "      <th>workclass</th>\n",
       "      <th>fnlwgt</th>\n",
       "      <th>education</th>\n",
       "      <th>education-num</th>\n",
       "      <th>marital-status</th>\n",
       "      <th>occupation</th>\n",
       "      <th>relationship</th>\n",
       "      <th>race</th>\n",
       "      <th>sex</th>\n",
       "      <th>capital-gain</th>\n",
       "      <th>capital-loss</th>\n",
       "      <th>hours-per-week</th>\n",
       "      <th>native-country</th>\n",
       "      <th>salary</th>\n",
       "    </tr>\n",
       "  </thead>\n",
       "  <tbody>\n",
       "    <tr>\n",
       "      <th>32559</th>\n",
       "      <td>58</td>\n",
       "      <td>Private</td>\n",
       "      <td>151910</td>\n",
       "      <td>HS-grad</td>\n",
       "      <td>9</td>\n",
       "      <td>Widowed</td>\n",
       "      <td>Adm-clerical</td>\n",
       "      <td>Unmarried</td>\n",
       "      <td>White</td>\n",
       "      <td>Female</td>\n",
       "      <td>0</td>\n",
       "      <td>0</td>\n",
       "      <td>40</td>\n",
       "      <td>United-States</td>\n",
       "      <td>&lt;=50K</td>\n",
       "    </tr>\n",
       "    <tr>\n",
       "      <th>32560</th>\n",
       "      <td>22</td>\n",
       "      <td>Private</td>\n",
       "      <td>201490</td>\n",
       "      <td>HS-grad</td>\n",
       "      <td>9</td>\n",
       "      <td>Never-married</td>\n",
       "      <td>Adm-clerical</td>\n",
       "      <td>Own-child</td>\n",
       "      <td>White</td>\n",
       "      <td>Male</td>\n",
       "      <td>0</td>\n",
       "      <td>0</td>\n",
       "      <td>20</td>\n",
       "      <td>United-States</td>\n",
       "      <td>&lt;=50K</td>\n",
       "    </tr>\n",
       "    <tr>\n",
       "      <th>32561</th>\n",
       "      <td>52</td>\n",
       "      <td>Self-emp-inc</td>\n",
       "      <td>287927</td>\n",
       "      <td>HS-grad</td>\n",
       "      <td>9</td>\n",
       "      <td>Married-civ-spouse</td>\n",
       "      <td>Exec-managerial</td>\n",
       "      <td>Wife</td>\n",
       "      <td>White</td>\n",
       "      <td>Female</td>\n",
       "      <td>15024</td>\n",
       "      <td>0</td>\n",
       "      <td>40</td>\n",
       "      <td>United-States</td>\n",
       "      <td>&gt;50K</td>\n",
       "    </tr>\n",
       "    <tr>\n",
       "      <th>32562</th>\n",
       "      <td></td>\n",
       "      <td>None</td>\n",
       "      <td>None</td>\n",
       "      <td>None</td>\n",
       "      <td>None</td>\n",
       "      <td>None</td>\n",
       "      <td>None</td>\n",
       "      <td>None</td>\n",
       "      <td>None</td>\n",
       "      <td>None</td>\n",
       "      <td>None</td>\n",
       "      <td>None</td>\n",
       "      <td>None</td>\n",
       "      <td>None</td>\n",
       "      <td>None</td>\n",
       "    </tr>\n",
       "    <tr>\n",
       "      <th>32563</th>\n",
       "      <td></td>\n",
       "      <td>None</td>\n",
       "      <td>None</td>\n",
       "      <td>None</td>\n",
       "      <td>None</td>\n",
       "      <td>None</td>\n",
       "      <td>None</td>\n",
       "      <td>None</td>\n",
       "      <td>None</td>\n",
       "      <td>None</td>\n",
       "      <td>None</td>\n",
       "      <td>None</td>\n",
       "      <td>None</td>\n",
       "      <td>None</td>\n",
       "      <td>None</td>\n",
       "    </tr>\n",
       "  </tbody>\n",
       "</table>\n",
       "</div>"
      ],
      "text/plain": [
       "0     age     workclass  fnlwgt education education-num      marital-status  \\\n",
       "32559  58       Private  151910   HS-grad             9             Widowed   \n",
       "32560  22       Private  201490   HS-grad             9       Never-married   \n",
       "32561  52  Self-emp-inc  287927   HS-grad             9  Married-civ-spouse   \n",
       "32562              None    None      None          None                None   \n",
       "32563              None    None      None          None                None   \n",
       "\n",
       "0           occupation relationship   race     sex capital-gain capital-loss  \\\n",
       "32559     Adm-clerical    Unmarried  White  Female            0            0   \n",
       "32560     Adm-clerical    Own-child  White    Male            0            0   \n",
       "32561  Exec-managerial         Wife  White  Female        15024            0   \n",
       "32562             None         None   None    None         None         None   \n",
       "32563             None         None   None    None         None         None   \n",
       "\n",
       "0     hours-per-week native-country salary  \n",
       "32559             40  United-States  <=50K  \n",
       "32560             20  United-States  <=50K  \n",
       "32561             40  United-States   >50K  \n",
       "32562           None           None   None  \n",
       "32563           None           None   None  "
      ]
     },
     "execution_count": 10,
     "metadata": {},
     "output_type": "execute_result"
    }
   ],
   "source": [
    "# And also the tail of the DataFrame\n",
    "\n",
    "df.tail()"
   ]
  },
  {
   "cell_type": "markdown",
   "metadata": {},
   "source": [
    "![Bar](https://github.com/AdmiJW/Items/blob/master/SeperatingBars/Horizontalbar_red.png?raw=true)\n",
    "\n",
    "### 2.3.1 - None rows in the end\n",
    "\n",
    "We've see from the `df.tail()` that the last two rows of the DataFrame was all empty. Why was it so? Perhaps in the original csv file, it was just empty lines. Therefore, we have to clean it up"
   ]
  },
  {
   "cell_type": "code",
   "execution_count": 11,
   "metadata": {},
   "outputs": [
    {
     "data": {
      "text/html": [
       "<div>\n",
       "<style scoped>\n",
       "    .dataframe tbody tr th:only-of-type {\n",
       "        vertical-align: middle;\n",
       "    }\n",
       "\n",
       "    .dataframe tbody tr th {\n",
       "        vertical-align: top;\n",
       "    }\n",
       "\n",
       "    .dataframe thead th {\n",
       "        text-align: right;\n",
       "    }\n",
       "</style>\n",
       "<table border=\"1\" class=\"dataframe\">\n",
       "  <thead>\n",
       "    <tr style=\"text-align: right;\">\n",
       "      <th></th>\n",
       "      <th>age</th>\n",
       "      <th>workclass</th>\n",
       "      <th>fnlwgt</th>\n",
       "      <th>education</th>\n",
       "      <th>education-num</th>\n",
       "      <th>marital-status</th>\n",
       "      <th>occupation</th>\n",
       "      <th>relationship</th>\n",
       "      <th>race</th>\n",
       "      <th>sex</th>\n",
       "      <th>capital-gain</th>\n",
       "      <th>capital-loss</th>\n",
       "      <th>hours-per-week</th>\n",
       "      <th>native-country</th>\n",
       "      <th>salary</th>\n",
       "    </tr>\n",
       "  </thead>\n",
       "  <tbody>\n",
       "    <tr>\n",
       "      <th>32557</th>\n",
       "      <td>27</td>\n",
       "      <td>Private</td>\n",
       "      <td>257302</td>\n",
       "      <td>Assoc-acdm</td>\n",
       "      <td>12</td>\n",
       "      <td>Married-civ-spouse</td>\n",
       "      <td>Tech-support</td>\n",
       "      <td>Wife</td>\n",
       "      <td>White</td>\n",
       "      <td>Female</td>\n",
       "      <td>0</td>\n",
       "      <td>0</td>\n",
       "      <td>38</td>\n",
       "      <td>United-States</td>\n",
       "      <td>&lt;=50K</td>\n",
       "    </tr>\n",
       "    <tr>\n",
       "      <th>32558</th>\n",
       "      <td>40</td>\n",
       "      <td>Private</td>\n",
       "      <td>154374</td>\n",
       "      <td>HS-grad</td>\n",
       "      <td>9</td>\n",
       "      <td>Married-civ-spouse</td>\n",
       "      <td>Machine-op-inspct</td>\n",
       "      <td>Husband</td>\n",
       "      <td>White</td>\n",
       "      <td>Male</td>\n",
       "      <td>0</td>\n",
       "      <td>0</td>\n",
       "      <td>40</td>\n",
       "      <td>United-States</td>\n",
       "      <td>&gt;50K</td>\n",
       "    </tr>\n",
       "    <tr>\n",
       "      <th>32559</th>\n",
       "      <td>58</td>\n",
       "      <td>Private</td>\n",
       "      <td>151910</td>\n",
       "      <td>HS-grad</td>\n",
       "      <td>9</td>\n",
       "      <td>Widowed</td>\n",
       "      <td>Adm-clerical</td>\n",
       "      <td>Unmarried</td>\n",
       "      <td>White</td>\n",
       "      <td>Female</td>\n",
       "      <td>0</td>\n",
       "      <td>0</td>\n",
       "      <td>40</td>\n",
       "      <td>United-States</td>\n",
       "      <td>&lt;=50K</td>\n",
       "    </tr>\n",
       "    <tr>\n",
       "      <th>32560</th>\n",
       "      <td>22</td>\n",
       "      <td>Private</td>\n",
       "      <td>201490</td>\n",
       "      <td>HS-grad</td>\n",
       "      <td>9</td>\n",
       "      <td>Never-married</td>\n",
       "      <td>Adm-clerical</td>\n",
       "      <td>Own-child</td>\n",
       "      <td>White</td>\n",
       "      <td>Male</td>\n",
       "      <td>0</td>\n",
       "      <td>0</td>\n",
       "      <td>20</td>\n",
       "      <td>United-States</td>\n",
       "      <td>&lt;=50K</td>\n",
       "    </tr>\n",
       "    <tr>\n",
       "      <th>32561</th>\n",
       "      <td>52</td>\n",
       "      <td>Self-emp-inc</td>\n",
       "      <td>287927</td>\n",
       "      <td>HS-grad</td>\n",
       "      <td>9</td>\n",
       "      <td>Married-civ-spouse</td>\n",
       "      <td>Exec-managerial</td>\n",
       "      <td>Wife</td>\n",
       "      <td>White</td>\n",
       "      <td>Female</td>\n",
       "      <td>15024</td>\n",
       "      <td>0</td>\n",
       "      <td>40</td>\n",
       "      <td>United-States</td>\n",
       "      <td>&gt;50K</td>\n",
       "    </tr>\n",
       "  </tbody>\n",
       "</table>\n",
       "</div>"
      ],
      "text/plain": [
       "0     age     workclass  fnlwgt   education education-num      marital-status  \\\n",
       "32557  27       Private  257302  Assoc-acdm            12  Married-civ-spouse   \n",
       "32558  40       Private  154374     HS-grad             9  Married-civ-spouse   \n",
       "32559  58       Private  151910     HS-grad             9             Widowed   \n",
       "32560  22       Private  201490     HS-grad             9       Never-married   \n",
       "32561  52  Self-emp-inc  287927     HS-grad             9  Married-civ-spouse   \n",
       "\n",
       "0             occupation relationship   race     sex capital-gain  \\\n",
       "32557       Tech-support         Wife  White  Female            0   \n",
       "32558  Machine-op-inspct      Husband  White    Male            0   \n",
       "32559       Adm-clerical    Unmarried  White  Female            0   \n",
       "32560       Adm-clerical    Own-child  White    Male            0   \n",
       "32561    Exec-managerial         Wife  White  Female        15024   \n",
       "\n",
       "0     capital-loss hours-per-week native-country salary  \n",
       "32557            0             38  United-States  <=50K  \n",
       "32558            0             40  United-States   >50K  \n",
       "32559            0             40  United-States  <=50K  \n",
       "32560            0             20  United-States  <=50K  \n",
       "32561            0             40  United-States   >50K  "
      ]
     },
     "execution_count": 11,
     "metadata": {},
     "output_type": "execute_result"
    }
   ],
   "source": [
    "# Remove the last 2 rows which is Empty rows\n",
    "df = df.iloc[:-2]\n",
    "df.tail()"
   ]
  },
  {
   "cell_type": "markdown",
   "metadata": {},
   "source": [
    "![Bar](https://github.com/AdmiJW/Items/blob/master/SeperatingBars/Horizontalbar_red.png?raw=true)\n",
    "\n",
    "### 2.3.2 - Incorrect Datatypes\n",
    "\n",
    "Let's set those columns to have the correct datatypes\n",
    "\n",
    "---\n",
    "\n",
    "Here I've wrote a home made function which take in a Series as argument. The Series will contain strings, but supposedly\n",
    "contain integer values.\n",
    "This function will try to parse the values into int. It will detect if any values cannot be converted into integers.\n",
    "In addition, it can also tell you the maximum value and minimum value, as well as the indices of invalid values if there exists\n",
    "in the Series\n",
    "\n",
    "Parameters:\n",
    "* `series` - The `pandas.Series` object\n",
    "* `can_negative` - **(Optional)** Boolean value. Can there be negative values in the Series? If False, as soon as a negative value is met, it will became invalid Series\n",
    "\n",
    "Returns:\n",
    "* It shall return a List, containing\n",
    "   * Index 0: Boolean value telling if the Series can become integer given condition\n",
    "   * Index 1: A List. What the list contains depend on index 0\n",
    "         * If index 0 is True (The Series is valid integer) --- [ min, max ]\n",
    "         * If index 0 is False (The Series is invalid integer) --- The list will contain indexes of which value is invalid"
   ]
  },
  {
   "cell_type": "code",
   "execution_count": 42,
   "metadata": {},
   "outputs": [],
   "source": [
    "\n",
    "\n",
    "# This is a custom function which take in a Series of string, which supposed to be integers.\n",
    "# It will check for each value, if it is ALL valid integers. This is to safely parse into correct datatype\n",
    "\n",
    "\n",
    "def checkStringIntValues(series: pd.Series, can_negative:bool = False ) -> List:\n",
    "    \n",
    "    result = [ True, list() ]\n",
    "    vmax = -float('inf')\n",
    "    vmin = float('inf')\n",
    "\n",
    "    for i in series.index:\n",
    "        try:\n",
    "            num = int( series[i] )\n",
    "            \n",
    "            if not can_negative and num < 0:\n",
    "                raise ValueError(\"Negative values\")\n",
    "            \n",
    "            vmax = max(vmax, num)\n",
    "            vmin = min(vmin, num)\n",
    "        except:\n",
    "            result[0] = False\n",
    "            result[1].append(i)\n",
    "            \n",
    "    if len(result[1] ) == 0:\n",
    "        result[1].append(vmin)\n",
    "        result[1].append(vmax)\n",
    "        \n",
    "    return result\n",
    "            \n",
    "    \n",
    "    \n",
    "\n"
   ]
  },
  {
   "cell_type": "code",
   "execution_count": 43,
   "metadata": {},
   "outputs": [
    {
     "name": "stdout",
     "output_type": "stream",
     "text": [
      "True\n",
      "[17, 90]\n"
     ]
    }
   ],
   "source": [
    "###########################################\n",
    "# age column > int8 (Since age really don't go high)\n",
    "###########################################\n",
    "\n",
    "# Using own made function, check the validity of the age column\n",
    "[valid, maxmin] = checkStringIntValues( df.age )\n",
    "\n",
    "print( valid )       # True\n",
    "print( maxmin )      # [17, 90]\n",
    "\n",
    "\n",
    "# Since highest value is only 90, we can safely use int8 as datatype\n",
    "df['age'] = df['age'].astype( np.int8 )\n",
    "\n"
   ]
  },
  {
   "cell_type": "code",
   "execution_count": 44,
   "metadata": {},
   "outputs": [
    {
     "name": "stdout",
     "output_type": "stream",
     "text": [
      "['State-gov' 'Self-emp-not-inc' 'Private' 'Federal-gov' 'Local-gov' '?'\n",
      " 'Self-emp-inc' 'Without-pay' 'Never-worked']\n"
     ]
    }
   ],
   "source": [
    "###########################################\n",
    "# workclass column. Let's check values first\n",
    "###########################################\n",
    "\n",
    "print( df.workclass.unique() )\n",
    "\n",
    "# Datatype is string alright. However there is a ? hanging there. Unknown work class.\n",
    "# Let's just ignore this value (Not counted into data analysis)"
   ]
  },
  {
   "cell_type": "code",
   "execution_count": 45,
   "metadata": {},
   "outputs": [
    {
     "name": "stdout",
     "output_type": "stream",
     "text": [
      "True\n",
      "[12285, 1484705]\n"
     ]
    }
   ],
   "source": [
    "\n",
    "###########################################\n",
    "# fnlwgt column. Let's see if there's any invalid numeric values\n",
    "###########################################\n",
    "\n",
    "[valid, minmax] = checkStringIntValues( df.fnlwgt )\n",
    "\n",
    "print(valid)        # True\n",
    "print(minmax)       # [12285, 1484705]\n",
    "\n",
    "\n",
    "# Now we see values go up as high as 1484705. int32 shall be suitable\n",
    "\n",
    "df['fnlwgt'] = df['fnlwgt'].astype( np.int32 )"
   ]
  },
  {
   "cell_type": "code",
   "execution_count": 46,
   "metadata": {},
   "outputs": [
    {
     "data": {
      "text/plain": [
       "array(['Bachelors', 'HS-grad', '11th', 'Masters', '9th', 'Some-college',\n",
       "       'Assoc-acdm', 'Assoc-voc', '7th-8th', 'Doctorate', 'Prof-school',\n",
       "       '5th-6th', '10th', '1st-4th', 'Preschool', '12th'], dtype=object)"
      ]
     },
     "execution_count": 46,
     "metadata": {},
     "output_type": "execute_result"
    }
   ],
   "source": [
    "\n",
    "###########################################\n",
    "# education column. Let's see unique values\n",
    "###########################################\n",
    "df['education'].unique()\n",
    "\n",
    "# No invalid values. All good. Moving on"
   ]
  },
  {
   "cell_type": "code",
   "execution_count": 47,
   "metadata": {},
   "outputs": [
    {
     "name": "stdout",
     "output_type": "stream",
     "text": [
      "True\n",
      "[1, 16]\n"
     ]
    }
   ],
   "source": [
    "\n",
    "############################################\n",
    "# education-num column. Let's see\n",
    "###########################################\n",
    "\n",
    "[valid, minmax] = checkStringIntValues( df['education-num'] )\n",
    "\n",
    "print( valid )           # True\n",
    "print( minmax )          # [1,16]\n",
    "\n",
    "\n",
    "# Only as low as 16. Use int8\n",
    "df['education-num'] = df['education-num'].astype( np.int8 )"
   ]
  },
  {
   "cell_type": "code",
   "execution_count": 48,
   "metadata": {},
   "outputs": [
    {
     "data": {
      "text/plain": [
       "array(['Never-married', 'Married-civ-spouse', 'Divorced',\n",
       "       'Married-spouse-absent', 'Separated', 'Married-AF-spouse',\n",
       "       'Widowed'], dtype=object)"
      ]
     },
     "execution_count": 48,
     "metadata": {},
     "output_type": "execute_result"
    }
   ],
   "source": [
    "\n",
    "############################################\n",
    "# marital-status column. Let's see\n",
    "###########################################\n",
    "\n",
    "df['marital-status'].unique()\n",
    "\n",
    "# All is good. Continue on"
   ]
  },
  {
   "cell_type": "code",
   "execution_count": 49,
   "metadata": {},
   "outputs": [
    {
     "data": {
      "text/plain": [
       "array(['Adm-clerical', 'Exec-managerial', 'Handlers-cleaners',\n",
       "       'Prof-specialty', 'Other-service', 'Sales', 'Craft-repair',\n",
       "       'Transport-moving', 'Farming-fishing', 'Machine-op-inspct',\n",
       "       'Tech-support', '?', 'Protective-serv', 'Armed-Forces',\n",
       "       'Priv-house-serv'], dtype=object)"
      ]
     },
     "execution_count": 49,
     "metadata": {},
     "output_type": "execute_result"
    }
   ],
   "source": [
    "\n",
    "############################################\n",
    "# occupation column. Let's see\n",
    "###########################################\n",
    "\n",
    "df.occupation.unique()\n",
    "\n",
    "# Take note of the '?' unknown value. Ignore that and continue on"
   ]
  },
  {
   "cell_type": "code",
   "execution_count": 50,
   "metadata": {},
   "outputs": [
    {
     "data": {
      "text/plain": [
       "array(['Not-in-family', 'Husband', 'Wife', 'Own-child', 'Unmarried',\n",
       "       'Other-relative'], dtype=object)"
      ]
     },
     "execution_count": 50,
     "metadata": {},
     "output_type": "execute_result"
    }
   ],
   "source": [
    "\n",
    "############################################\n",
    "# relationship column. Let's see\n",
    "###########################################\n",
    "\n",
    "df.relationship.unique()\n",
    "\n",
    "# Alright"
   ]
  },
  {
   "cell_type": "code",
   "execution_count": 51,
   "metadata": {},
   "outputs": [
    {
     "data": {
      "text/plain": [
       "array(['White', 'Black', 'Asian-Pac-Islander', 'Amer-Indian-Eskimo',\n",
       "       'Other'], dtype=object)"
      ]
     },
     "execution_count": 51,
     "metadata": {},
     "output_type": "execute_result"
    }
   ],
   "source": [
    "\n",
    "############################################\n",
    "# race column. Let's see\n",
    "###########################################\n",
    "\n",
    "df.race.unique()\n",
    "\n",
    "# OK"
   ]
  },
  {
   "cell_type": "code",
   "execution_count": 52,
   "metadata": {},
   "outputs": [
    {
     "data": {
      "text/plain": [
       "array(['Male', 'Female'], dtype=object)"
      ]
     },
     "execution_count": 52,
     "metadata": {},
     "output_type": "execute_result"
    }
   ],
   "source": [
    "\n",
    "############################################\n",
    "# sex column. Let's see\n",
    "###########################################\n",
    "import sys\n",
    "df.sex.unique()\n",
    "\n",
    "# No problem here\n"
   ]
  },
  {
   "cell_type": "code",
   "execution_count": 53,
   "metadata": {},
   "outputs": [
    {
     "name": "stdout",
     "output_type": "stream",
     "text": [
      "True\n",
      "[0, 99999]\n"
     ]
    }
   ],
   "source": [
    "\n",
    "############################################\n",
    "# capital-gain column. Let's see\n",
    "###########################################\n",
    "\n",
    "[valid, minmax] = checkStringIntValues( df['capital-gain'] )\n",
    "\n",
    "print(valid)       # True\n",
    "print(minmax)      # [0, 99999]\n",
    "\n",
    "# A int32 will suffice\n",
    "\n",
    "df['capital-gain'] = df['capital-gain'].astype( np.int32 )"
   ]
  },
  {
   "cell_type": "code",
   "execution_count": 54,
   "metadata": {},
   "outputs": [
    {
     "name": "stdout",
     "output_type": "stream",
     "text": [
      "True\n",
      "[0, 4356]\n"
     ]
    }
   ],
   "source": [
    "############################################\n",
    "# capital-loss column. Let's see\n",
    "###########################################\n",
    "\n",
    "[valid, minmax] = checkStringIntValues( df['capital-loss'] )\n",
    "\n",
    "print(valid)         # True\n",
    "print(minmax)        # [0, 4356]\n",
    "\n",
    "# In this case maximum is only 4356, well within range of int16\n",
    "\n",
    "df['capital-loss'] = df['capital-loss'].astype( np.int16 )"
   ]
  },
  {
   "cell_type": "code",
   "execution_count": 58,
   "metadata": {},
   "outputs": [
    {
     "name": "stdout",
     "output_type": "stream",
     "text": [
      "True\n",
      "[1, 99]\n"
     ]
    }
   ],
   "source": [
    "############################################\n",
    "# hours-per-week column. Let's see\n",
    "###########################################\n",
    "\n",
    "[valid, minmax] = checkStringIntValues( df['hours-per-week'] )\n",
    "\n",
    "print(valid)          # True\n",
    "print(minmax)         # [1,99]\n",
    "\n",
    "# int8 is already more than enoguh\n",
    "\n",
    "df['hours-per-week'] = df['hours-per-week'].astype( np.int8 )"
   ]
  },
  {
   "cell_type": "code",
   "execution_count": 61,
   "metadata": {},
   "outputs": [
    {
     "data": {
      "text/plain": [
       "United-States                 29170\n",
       "Mexico                          643\n",
       "?                               583\n",
       "Philippines                     198\n",
       "Germany                         137\n",
       "Canada                          121\n",
       "Puerto-Rico                     114\n",
       "El-Salvador                     106\n",
       "India                           100\n",
       "Cuba                             95\n",
       "England                          90\n",
       "Jamaica                          81\n",
       "South                            80\n",
       "China                            75\n",
       "Italy                            73\n",
       "Dominican-Republic               70\n",
       "Vietnam                          67\n",
       "Guatemala                        64\n",
       "Japan                            62\n",
       "Poland                           60\n",
       "Columbia                         59\n",
       "Taiwan                           51\n",
       "Haiti                            44\n",
       "Iran                             43\n",
       "Portugal                         37\n",
       "Nicaragua                        34\n",
       "Peru                             31\n",
       "Greece                           29\n",
       "France                           29\n",
       "Ecuador                          28\n",
       "Ireland                          24\n",
       "Hong                             20\n",
       "Trinadad&Tobago                  19\n",
       "Cambodia                         19\n",
       "Thailand                         18\n",
       "Laos                             18\n",
       "Yugoslavia                       16\n",
       "Outlying-US(Guam-USVI-etc)       14\n",
       "Honduras                         13\n",
       "Hungary                          13\n",
       "Scotland                         12\n",
       "Holand-Netherlands                1\n",
       "Name: native-country, dtype: int64"
      ]
     },
     "execution_count": 61,
     "metadata": {},
     "output_type": "execute_result"
    }
   ],
   "source": [
    "############################################\n",
    "# native-country column. Let's see\n",
    "###########################################\n",
    "\n",
    "df['native-country'].unique()\n",
    "\n",
    "df['native-country'].value_counts()\n",
    "\n",
    "# Just take note that None values exist in the data, and 583 of them"
   ]
  },
  {
   "cell_type": "code",
   "execution_count": 64,
   "metadata": {},
   "outputs": [
    {
     "data": {
      "text/plain": [
       "array(['<=50K', '>50K'], dtype=object)"
      ]
     },
     "execution_count": 64,
     "metadata": {},
     "output_type": "execute_result"
    }
   ],
   "source": [
    "############################################\n",
    "# salary column. Let's see\n",
    "###########################################\n",
    "\n",
    "# Since salary is not in the form of pure numbers, we check unique values\n",
    "\n",
    "df.salary.unique()\n",
    "\n",
    "# Just <=50K and >50K? OK\n"
   ]
  },
  {
   "cell_type": "markdown",
   "metadata": {},
   "source": [
    "![Bar](https://raw.githubusercontent.com/AdmiJW/Items/master/SeperatingBars/Horizontalbar_red.png)\n",
    "\n",
    "Seems like all the datatypes are now correct, and as for invalid values, we can just safely ignore them.\n",
    "\n",
    "Let's continue into the **ACTUAL** data analysis now. Action time!"
   ]
  },
  {
   "cell_type": "markdown",
   "metadata": {},
   "source": [
    "![Bar](https://github.com/AdmiJW/Items/blob/master/SeperatingBars/Horizontalbar_green.png?raw=true)\n",
    "\n",
    "# 3.0 Data Analsysis\n",
    "\n",
    "![Bar](https://github.com/AdmiJW/Items/blob/master/SeperatingBars/Horizontalbar_green.png?raw=true)"
   ]
  },
  {
   "cell_type": "markdown",
   "metadata": {},
   "source": [
    "### 3.1 - Problem #1\n",
    "\n",
    "Q: _How many people of each race are represented in this dataset? This should be a Pandas series with race names as the index labels. (race column)_"
   ]
  },
  {
   "cell_type": "code",
   "execution_count": 113,
   "metadata": {},
   "outputs": [
    {
     "data": {
      "text/plain": [
       "White                 27816\n",
       "Black                  3124\n",
       "Asian-Pac-Islander     1039\n",
       "Amer-Indian-Eskimo      311\n",
       "Other                   271\n",
       "Name: race, dtype: int64"
      ]
     },
     "execution_count": 113,
     "metadata": {},
     "output_type": "execute_result"
    }
   ],
   "source": [
    "\n",
    "# This problem asks for a frequency table. This is how we actually check for\n",
    "# number of unique values! Use Series.value_counts() to get the result!\n",
    "\n",
    "Q1_ans = df['race'].value_counts()\n",
    "\n",
    "Q1_ans\n"
   ]
  },
  {
   "cell_type": "markdown",
   "metadata": {},
   "source": [
    "![Bar](https://github.com/AdmiJW/Items/blob/master/SeperatingBars/Horizontalbar_green.png?raw=true)\n",
    "\n",
    "### 3.2 - Problem #2\n",
    "\n",
    "Q: _What is the average age of men?_"
   ]
  },
  {
   "cell_type": "code",
   "execution_count": 183,
   "metadata": {},
   "outputs": [
    {
     "data": {
      "text/plain": [
       "39.43354749885268"
      ]
     },
     "execution_count": 183,
     "metadata": {},
     "output_type": "execute_result"
    }
   ],
   "source": [
    "\n",
    "# This problem asks for average age of men. \n",
    "# Unfortunately, pandas Series does not have a average function. However,\n",
    "# there is instead a sum() function. Use sum() divided by the number of entries\n",
    "\n",
    "male_mask = df.sex == 'Male'\n",
    "\n",
    "Q2_ans = df[ male_mask ].age.sum() / len( df[ male_mask] )\n",
    "\n",
    "Q2_ans\n",
    "\n"
   ]
  },
  {
   "cell_type": "markdown",
   "metadata": {},
   "source": [
    "![Bar](https://github.com/AdmiJW/Items/blob/master/SeperatingBars/Horizontalbar_green.png?raw=true)\n",
    "\n",
    "### 3.3 - Problem #3\n",
    "\n",
    "Q: _What is the percentage of people who have a Bachelor's degree?_"
   ]
  },
  {
   "cell_type": "code",
   "execution_count": 115,
   "metadata": {},
   "outputs": [
    {
     "data": {
      "text/plain": [
       "16.44605509658794"
      ]
     },
     "execution_count": 115,
     "metadata": {},
     "output_type": "execute_result"
    }
   ],
   "source": [
    "\n",
    "# This problem asks for number of people with 'Bachelors' value in its education\n",
    "# column, over all people, in percentage\n",
    "\n",
    "sample = len( df[ df.education == 'Bachelors'] )\n",
    "Q3_ans = sample / len(df) * 100\n",
    "\n",
    "Q3_ans"
   ]
  },
  {
   "cell_type": "markdown",
   "metadata": {},
   "source": [
    "![Bar](https://github.com/AdmiJW/Items/blob/master/SeperatingBars/Horizontalbar_green.png?raw=true)\n",
    "\n",
    "### 3.4 - Problem #4\n",
    "\n",
    "Q: _What percentage of people with advanced education (Bachelors, Masters, or Doctorate) make more than 50K?_"
   ]
  },
  {
   "cell_type": "code",
   "execution_count": 116,
   "metadata": {},
   "outputs": [
    {
     "data": {
      "text/plain": [
       "46.535843011613935"
      ]
     },
     "execution_count": 116,
     "metadata": {},
     "output_type": "execute_result"
    }
   ],
   "source": [
    "\n",
    "# This is a compounded query. We have to find\n",
    "# Those people which has advanced education\n",
    "# Those people which makes more than 50K\n",
    "\n",
    "# Basically, it is ( advanced edu & 50K ) / (50K)\n",
    "\n",
    "# To get boolean mask whether values is in a specified values list, use\n",
    "# isin() function\n",
    "\n",
    "advanced_edu_values = ['Bachelors', 'Masters', 'Doctorate']\n",
    "advanced_edu_mask = df.education.isin( advanced_edu_values )\n",
    "\n",
    "over_50K_mask = df.salary == '>50K'\n",
    "\n",
    "\n",
    "Q4_ans = len( df[ (advanced_edu_mask) & (over_50K_mask) ] ) \\\n",
    "         / len( df[advanced_edu_mask]) * 100\n",
    "\n",
    "Q4_ans"
   ]
  },
  {
   "cell_type": "markdown",
   "metadata": {},
   "source": [
    "![Bar](https://github.com/AdmiJW/Items/blob/master/SeperatingBars/Horizontalbar_green.png?raw=true)\n",
    "\n",
    "### 3.5 - Problem #5\n",
    "\n",
    "Q: _What percentage of people without advanced education make more than 50K?_"
   ]
  },
  {
   "cell_type": "code",
   "execution_count": 123,
   "metadata": {},
   "outputs": [
    {
     "data": {
      "text/plain": [
       "17.3713601914639"
      ]
     },
     "execution_count": 123,
     "metadata": {},
     "output_type": "execute_result"
    }
   ],
   "source": [
    "\n",
    "# This problem requires\n",
    "# >    People with no advanced education. Just negate the last mask\n",
    "# >    People making more than 50K. Just use the last mask\n",
    "\n",
    "advanced_edu_values = ['Bachelors', 'Masters', 'Doctorate']\n",
    "advanced_edu_mask = df.education.isin( advanced_edu_values )\n",
    "no_advanced_edu_mask = ~advanced_edu_mask\n",
    "\n",
    "Q5_ans = len( df[ (no_advanced_edu_mask) & (over_50K_mask) ] ) \\\n",
    "        /len( df[ (no_advanced_edu_mask) ] ) * 100\n",
    "\n",
    "Q5_ans\n",
    "\n"
   ]
  },
  {
   "cell_type": "markdown",
   "metadata": {},
   "source": [
    "![Bar](https://github.com/AdmiJW/Items/blob/master/SeperatingBars/Horizontalbar_green.png?raw=true)\n",
    "\n",
    "### 3.6 - Problem #6\n",
    "\n",
    "Q: _What is the minimum number of hours a person works per week?_"
   ]
  },
  {
   "cell_type": "code",
   "execution_count": 122,
   "metadata": {},
   "outputs": [
    {
     "name": "stdout",
     "output_type": "stream",
     "text": [
      "count    32561.000000\n",
      "mean        40.437456\n",
      "std         12.347429\n",
      "min          1.000000\n",
      "25%         40.000000\n",
      "50%         40.000000\n",
      "75%         45.000000\n",
      "max         99.000000\n",
      "Name: hours-per-week, dtype: float64\n"
     ]
    },
    {
     "data": {
      "text/plain": [
       "1"
      ]
     },
     "execution_count": 122,
     "metadata": {},
     "output_type": "execute_result"
    }
   ],
   "source": [
    "\n",
    "# Just get the minimum of the hours-per-week column\n",
    "\n",
    "# Summary statistics\n",
    "print ( df['hours-per-week'].describe()  )\n",
    "\n",
    "Q6_ans = df['hours-per-week'].min()\n",
    "\n",
    "Q6_ans"
   ]
  },
  {
   "cell_type": "markdown",
   "metadata": {},
   "source": [
    "![Bar](https://github.com/AdmiJW/Items/blob/master/SeperatingBars/Horizontalbar_green.png?raw=true)\n",
    "\n",
    "### 3.7 - Problem #7\n",
    "\n",
    "Q: _What percentage of the people who work the minimum number of hours per week have a salary of more than 50K?_"
   ]
  },
  {
   "cell_type": "code",
   "execution_count": 126,
   "metadata": {},
   "outputs": [
    {
     "data": {
      "text/plain": [
       "10.0"
      ]
     },
     "execution_count": 126,
     "metadata": {},
     "output_type": "execute_result"
    }
   ],
   "source": [
    "\n",
    "# We will use the result of last query on this.\n",
    "# We need the mask of:\n",
    "# >    People working at minimum hour per week\n",
    "# >    People working at salary more than 50K\n",
    "\n",
    "min_hour = df['hours-per-week'].min()\n",
    "min_mask = df['hours-per-week'] == min_hour\n",
    "\n",
    "salary_mask = df.salary == '>50K'\n",
    "\n",
    "Q7_ans = len( df[ min_mask & salary_mask ] ) / len( df[ min_mask] ) * 100\n",
    "\n",
    "Q7_ans"
   ]
  },
  {
   "cell_type": "markdown",
   "metadata": {},
   "source": [
    "![Bar](https://github.com/AdmiJW/Items/blob/master/SeperatingBars/Horizontalbar_green.png?raw=true)\n",
    "\n",
    "### 3.8 - Problem #8\n",
    "\n",
    "Q: _What country has the highest percentage of people that earn >50K and what is the percentage?_"
   ]
  },
  {
   "cell_type": "code",
   "execution_count": 174,
   "metadata": {},
   "outputs": [
    {
     "name": "stdout",
     "output_type": "stream",
     "text": [
      "United-States                 29170\n",
      "Mexico                          643\n",
      "Philippines                     198\n",
      "Germany                         137\n",
      "Canada                          121\n",
      "Puerto-Rico                     114\n",
      "El-Salvador                     106\n",
      "India                           100\n",
      "Cuba                             95\n",
      "England                          90\n",
      "Jamaica                          81\n",
      "South                            80\n",
      "China                            75\n",
      "Italy                            73\n",
      "Dominican-Republic               70\n",
      "Vietnam                          67\n",
      "Guatemala                        64\n",
      "Japan                            62\n",
      "Poland                           60\n",
      "Columbia                         59\n",
      "Taiwan                           51\n",
      "Haiti                            44\n",
      "Iran                             43\n",
      "Portugal                         37\n",
      "Nicaragua                        34\n",
      "Peru                             31\n",
      "Greece                           29\n",
      "France                           29\n",
      "Ecuador                          28\n",
      "Ireland                          24\n",
      "Hong                             20\n",
      "Trinadad&Tobago                  19\n",
      "Cambodia                         19\n",
      "Thailand                         18\n",
      "Laos                             18\n",
      "Yugoslavia                       16\n",
      "Outlying-US(Guam-USVI-etc)       14\n",
      "Hungary                          13\n",
      "Honduras                         13\n",
      "Scotland                         12\n",
      "Holand-Netherlands                1\n",
      "Name: native-country, dtype: int64\n",
      "United-States         7171\n",
      "Philippines             61\n",
      "Germany                 44\n",
      "India                   40\n",
      "Canada                  39\n",
      "Mexico                  33\n",
      "England                 30\n",
      "Italy                   25\n",
      "Cuba                    25\n",
      "Japan                   24\n",
      "China                   20\n",
      "Taiwan                  20\n",
      "Iran                    18\n",
      "South                   16\n",
      "Puerto-Rico             12\n",
      "Poland                  12\n",
      "France                  12\n",
      "Jamaica                 10\n",
      "El-Salvador              9\n",
      "Greece                   8\n",
      "Cambodia                 7\n",
      "Hong                     6\n",
      "Yugoslavia               6\n",
      "Ireland                  5\n",
      "Vietnam                  5\n",
      "Ecuador                  4\n",
      "Haiti                    4\n",
      "Portugal                 4\n",
      "Guatemala                3\n",
      "Scotland                 3\n",
      "Hungary                  3\n",
      "Thailand                 3\n",
      "Laos                     2\n",
      "Peru                     2\n",
      "Trinadad&Tobago          2\n",
      "Dominican-Republic       2\n",
      "Columbia                 2\n",
      "Nicaragua                2\n",
      "Honduras                 1\n",
      "Name: native-country, dtype: int64\n"
     ]
    },
    {
     "data": {
      "text/plain": [
       "41.86046511627907"
      ]
     },
     "execution_count": 174,
     "metadata": {},
     "output_type": "execute_result"
    }
   ],
   "source": [
    "\n",
    "# This is a more complex query. We will approach this in series of steps\n",
    "# 1.    We need a frequency table for people in each country\n",
    "# 2.    We need a frequency table for people in each country earning\n",
    "#       >50K.\n",
    "# 3.    Divide those corresponding datas together. We will get percentage from\n",
    "#       it \n",
    "\n",
    "Nonefilter = df['native-country'] != '?'\n",
    "\n",
    "pop_country = df[Nonefilter]['native-country'].value_counts()\n",
    "\n",
    "salary_mask = df[Nonefilter].salary == '>50K'\n",
    "\n",
    "pop_country_rich = df[Nonefilter][salary_mask]['native-country'].value_counts()\n",
    "\n",
    "print( pop_country) \n",
    "print( pop_country_rich)\n",
    "\n",
    "country_percentage = pop_country_rich / pop_country * 100\n",
    "country_percentage.sort_values( ascending=False, inplace=True)\n",
    "\n",
    "Q8_1_ans = country_percentage.index[0];\n",
    "Q8_2_ans = country_percentage.max()\n",
    "\n",
    "print( Q8_1_ans, Q8_2_ans )\n"
   ]
  },
  {
   "cell_type": "markdown",
   "metadata": {},
   "source": [
    "![Bar](https://github.com/AdmiJW/Items/blob/master/SeperatingBars/Horizontalbar_green.png?raw=true)\n",
    "\n",
    "### 3.9- Problem #9\n",
    "\n",
    "Q: _Identify the most popular occupation for those who earn >50K in India_"
   ]
  },
  {
   "cell_type": "code",
   "execution_count": 166,
   "metadata": {},
   "outputs": [
    {
     "name": "stdout",
     "output_type": "stream",
     "text": [
      "Prof-specialty      25\n",
      "Exec-managerial      8\n",
      "Other-service        2\n",
      "Tech-support         2\n",
      "Sales                1\n",
      "Adm-clerical         1\n",
      "Transport-moving     1\n",
      "Name: occupation, dtype: int64\n"
     ]
    },
    {
     "data": {
      "text/plain": [
       "'Prof-specialty'"
      ]
     },
     "execution_count": 166,
     "metadata": {},
     "output_type": "execute_result"
    }
   ],
   "source": [
    "\n",
    "# We need:\n",
    "# >    Salary mask for those >50K\n",
    "# >    Country mask for India\n",
    "# >    Count values for occupation. Get the top value\n",
    "\n",
    "salary_mask = df.salary == '>50K'\n",
    "\n",
    "country_mask = df['native-country'] == 'India'\n",
    "\n",
    "occupations_series = df[ salary_mask & country_mask ].occupation\n",
    "\n",
    "print( occupations_series.value_counts() )\n",
    "\n",
    "Q9_ans = occupations_series.value_counts().index[0]\n",
    "\n",
    "Q9_ans"
   ]
  },
  {
   "cell_type": "code",
   "execution_count": null,
   "metadata": {},
   "outputs": [],
   "source": []
  }
 ],
 "metadata": {
  "kernelspec": {
   "display_name": "Python 3",
   "language": "python",
   "name": "python3"
  },
  "language_info": {
   "codemirror_mode": {
    "name": "ipython",
    "version": 3
   },
   "file_extension": ".py",
   "mimetype": "text/x-python",
   "name": "python",
   "nbconvert_exporter": "python",
   "pygments_lexer": "ipython3",
   "version": "3.8.2"
  }
 },
 "nbformat": 4,
 "nbformat_minor": 4
}
