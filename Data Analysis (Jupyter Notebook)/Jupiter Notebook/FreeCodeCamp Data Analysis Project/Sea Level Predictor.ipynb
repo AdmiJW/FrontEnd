{
 "cells": [
  {
   "cell_type": "markdown",
   "metadata": {},
   "source": [
    "![Bar](https://github.com/AdmiJW/Items/blob/master/SeperatingBars/Horizontalbar_red.png?raw=true)\n",
    "\n",
    "# 1.0 - Sea Level Predictor\n",
    "\n",
    "![Bar](https://github.com/AdmiJW/Items/blob/master/SeperatingBars/Horizontalbar_red.png?raw=true)\n",
    "\n",
    "In this assignment, we will be fetching the data of the global sea levels from year 1880 up until 2014. Then, a scatterplot will be plotted for the sea levels, then 2 line of best fit will be plotted on the graph:\n",
    "* One line of best fit using ALL the data, meaning from year 1880 up until 2014\n",
    "* One line of best fit using data starting from 2000 ONLY, up until the year 2014"
   ]
  },
  {
   "cell_type": "markdown",
   "metadata": {},
   "source": [
    "![Bar](https://github.com/AdmiJW/Items/blob/master/SeperatingBars/Horizontalbar_red.png?raw=true)\n",
    "\n",
    "### 1.1 - Fetching CSV in More Traditional Way\n",
    "\n",
    "As usual, the more 'traditional' way of fetching CSV are using the `requests` method. However this way we will have to construct the `DataFrame` ourselves, and converting datatype of each column ourselves."
   ]
  },
  {
   "cell_type": "code",
   "execution_count": 302,
   "metadata": {},
   "outputs": [],
   "source": [
    "\n",
    "# Let's first import the necessary libraries first:\n",
    "import numpy as np\n",
    "import pandas as pd\n",
    "import matplotlib.pyplot as plt\n",
    "import seaborn as sns\n",
    "import scipy.stats as stats\n",
    "\n",
    "import requests\n",
    "from typing import *\n"
   ]
  },
  {
   "cell_type": "code",
   "execution_count": 303,
   "metadata": {},
   "outputs": [],
   "source": [
    "\n",
    "# Here is the traditional way of fetching the CSV data, using requests library\n",
    "def read_csv_using_requests( url:str, delimiter:str=',' ) -> List:\n",
    "    if ( len(delimiter) != 1 ):\n",
    "        raise ValueError(\"Length of delimiter must be 1! Provided: {}\".format(delimiter) )\n",
    "    try:\n",
    "        response: requests.Response = requests.request('GET', url )\n",
    "        if (response.status_code != 200):\n",
    "            raise ConnectionError()\n",
    "    except:\n",
    "        raise ConnectionError(\"Error Occurred while trying to fetch the CSV with given url: {}\".format( url ) )\n",
    "\n",
    "    # Split the text into lines, then split each line using the delimiter\n",
    "    values = response.text.split('\\r\\n')\n",
    "    values = list( map( lambda x: x.split(delimiter) , values ) )\n",
    "\n",
    "    return values\n"
   ]
  },
  {
   "cell_type": "code",
   "execution_count": 304,
   "metadata": {},
   "outputs": [
    {
     "data": {
      "text/plain": [
       "[['Year',\n",
       "  'CSIRO Adjusted Sea Level',\n",
       "  'Lower Error Bound',\n",
       "  'Upper Error Bound',\n",
       "  'NOAA Adjusted Sea Level'],\n",
       " ['1880-03-15', '0', '-0.952755905', '0.952755905', ''],\n",
       " ['1881-03-15', '0.220472441', '-0.732283464', '1.173228345', ''],\n",
       " ['1882-03-15', '-0.440944881', '-1.346456692', '0.464566929', ''],\n",
       " ['1883-03-15', '-0.232283464', '-1.129921259', '0.66535433', ''],\n",
       " ['1884-03-15', '0.590551181', '-0.283464567', '1.464566928', ''],\n",
       " ['1885-03-15', '0.531496062', '-0.330708661', '1.393700786', ''],\n",
       " ['1886-03-15', '0.437007874', '-0.381889763', '1.255905511', ''],\n",
       " ['1887-03-15', '0.216535433', '-0.602362204', '1.03543307', ''],\n",
       " ['1888-03-15', '0.299212598', '-0.519685039', '1.118110235', ''],\n",
       " ['1889-03-15', '0.362204724', '-0.456692913', '1.181102361', ''],\n",
       " ['1890-03-15', '0.440944881', '-0.374015748', '1.255905511', ''],\n",
       " ['1891-03-15', '0.374015748', '-0.440944881', '1.188976377', ''],\n",
       " ['1892-03-15', '0.499999999', '-0.31496063', '1.314960629', ''],\n",
       " ['1893-03-15', '0.685039369', '-0.114173228', '1.484251967', ''],\n",
       " ['1894-03-15', '0.303149606', '-0.547244094', '1.153543306', ''],\n",
       " ['1895-03-15', '0.767716535', '-0.082677165', '1.618110235', ''],\n",
       " ['1896-03-15', '0.468503937', '-0.366141732', '1.303149605', ''],\n",
       " ['1897-03-15', '0.673228346', '-0.145669291', '1.492125983', ''],\n",
       " ['1898-03-15', '1.043307086', '0.267716535', '1.818897636', ''],\n",
       " ['1899-03-15', '1.338582676', '0.574803149', '2.102362203', ''],\n",
       " ['1900-03-15', '1.125984251', '0.405511811', '1.846456691', ''],\n",
       " ['1901-03-15', '1.110236219', '0.417322834', '1.803149604', ''],\n",
       " ['1902-03-15', '1.291338581', '0.61023622', '1.972440943', ''],\n",
       " ['1903-03-15', '1.606299211', '0.937007873', '2.275590549', ''],\n",
       " ['1904-03-15', '1.2007874', '0.53543307', '1.86614173', ''],\n",
       " ['1905-03-15', '0.984251968', '0.377952756', '1.590551179', ''],\n",
       " ['1906-03-15', '1.251968503', '0.673228346', '1.83070866', ''],\n",
       " ['1907-03-15', '1.196850392', '0.61023622', '1.783464565', ''],\n",
       " ['1908-03-15', '1.098425196', '0.527559055', '1.669291337', ''],\n",
       " ['1909-03-15', '1.27559055', '0.700787401', '1.850393699', ''],\n",
       " ['1910-03-15', '1.271653542', '0.696850393', '1.846456691', ''],\n",
       " ['1911-03-15', '1.598425195', '1.039370078', '2.157480313', ''],\n",
       " ['1912-03-15', '1.476377951', '0.917322834', '2.035433069', ''],\n",
       " ['1913-03-15', '1.547244093', '0.992125983', '2.102362203', ''],\n",
       " ['1914-03-15', '1.795275589', '1.251968503', '2.338582675', ''],\n",
       " ['1915-03-15', '2.10629921', '1.57086614', '2.641732281', ''],\n",
       " ['1916-03-15', '2.031496061', '1.519685038', '2.543307084', ''],\n",
       " ['1917-03-15', '1.854330707', '1.350393699', '2.358267714', ''],\n",
       " ['1918-03-15', '1.791338581', '1.291338581', '2.29133858', ''],\n",
       " ['1919-03-15', '1.854330707', '1.354330707', '2.354330706', ''],\n",
       " ['1920-03-15', '1.905511809', '1.393700786', '2.417322832', ''],\n",
       " ['1921-03-15', '1.988188974', '1.472440943', '2.503937005', ''],\n",
       " ['1922-03-15', '1.952755904', '1.433070865', '2.472440942', ''],\n",
       " ['1923-03-15', '1.999999998', '1.488188975', '2.511811021', ''],\n",
       " ['1924-03-15', '1.712598423', '1.196850392', '2.228346454', ''],\n",
       " ['1925-03-15', '1.791338581', '1.255905511', '2.326771651', ''],\n",
       " ['1926-03-15', '2.047244092', '1.507874014', '2.586614171', ''],\n",
       " ['1927-03-15', '2.003937006', '1.496062991', '2.511811021', ''],\n",
       " ['1928-03-15', '1.850393699', '1.366141731', '2.334645667', ''],\n",
       " ['1929-03-15', '1.905511809', '1.429133857', '2.381889761', ''],\n",
       " ['1930-03-15', '2.062992124', '1.590551179', '2.535433068', ''],\n",
       " ['1931-03-15', '2.047244092', '1.566929132', '2.527559053', ''],\n",
       " ['1932-03-15', '2.271653541', '1.803149604', '2.740157478', ''],\n",
       " ['1933-03-15', '2.440944879', '1.976377951', '2.905511808', ''],\n",
       " ['1934-03-15', '2.228346454', '1.759842518', '2.696850391', ''],\n",
       " ['1935-03-15', '2.448818895', '1.980314959', '2.917322832', ''],\n",
       " ['1936-03-15', '2.295275588', '1.83070866', '2.759842517', ''],\n",
       " ['1937-03-15', '2.519685037', '2.055118108', '2.984251965', ''],\n",
       " ['1938-03-15', '2.622047241', '2.157480313', '3.08661417', ''],\n",
       " ['1939-03-15', '2.826771651', '2.346456691', '3.307086611', ''],\n",
       " ['1940-03-15', '2.618110234', '2.18110236', '3.055118107', ''],\n",
       " ['1941-03-15', '3.098425194', '2.673228344', '3.523622044', ''],\n",
       " ['1942-03-15', '3.098425194', '2.673228344', '3.523622044', ''],\n",
       " ['1943-03-15', '3.098425194', '2.673228344', '3.523622044', ''],\n",
       " ['1944-03-15', '2.84645669', '2.425196848', '3.267716532', ''],\n",
       " ['1945-03-15', '2.95669291', '2.535433068', '3.377952752', ''],\n",
       " ['1946-03-15', '3.251968501', '2.834645666', '3.669291335', ''],\n",
       " ['1947-03-15', '3.374015745', '2.996062989', '3.7519685', ''],\n",
       " ['1948-03-15', '3.562992122', '3.19685039', '3.929133854', ''],\n",
       " ['1949-03-15', '3.51181102', '3.181102359', '3.842519681', ''],\n",
       " ['1950-03-15', '3.598425193', '3.287401571', '3.909448815', ''],\n",
       " ['1951-03-15', '3.972440941', '3.665354327', '4.279527555', ''],\n",
       " ['1952-03-15', '3.870078736', '3.56692913', '4.173228342', ''],\n",
       " ['1953-03-15', '4.043307082', '3.748031492', '4.338582673', ''],\n",
       " ['1954-03-15', '3.929133854', '3.64173228', '4.216535429', ''],\n",
       " ['1955-03-15', '3.964566925', '3.685039366', '4.244094484', ''],\n",
       " ['1956-03-15', '3.763779524', '3.488188973', '4.039370075', ''],\n",
       " ['1957-03-15', '4.291338578', '4.019685035', '4.562992121', ''],\n",
       " ['1958-03-15', '4.346456688', '4.086614169', '4.606299208', ''],\n",
       " ['1959-03-15', '4.358267712', '4.102362201', '4.614173224', ''],\n",
       " ['1960-03-15', '4.503937003', '4.244094484', '4.763779523', ''],\n",
       " ['1961-03-15', '4.748031491', '4.488188972', '5.007874011', ''],\n",
       " ['1962-03-15', '4.543307082', '4.283464563', '4.803149601', ''],\n",
       " ['1963-03-15', '4.480314956', '4.220472437', '4.740157475', ''],\n",
       " ['1964-03-15', '4.169291334', '3.905511807', '4.433070862', ''],\n",
       " ['1965-03-15', '4.610236216', '4.346456688', '4.874015743', ''],\n",
       " ['1966-03-15', '4.397637791', '4.137795271', '4.65748031', ''],\n",
       " ['1967-03-15', '4.452755901', '4.196850389', '4.708661413', ''],\n",
       " ['1968-03-15', '4.484251964', '4.220472437', '4.748031491', ''],\n",
       " ['1969-03-15', '4.751968499', '4.476377948', '5.02755905', ''],\n",
       " ['1970-03-15', '4.67716535', '4.401574799', '4.9527559', ''],\n",
       " ['1971-03-15', '4.881889759', '4.610236216', '5.153543302', ''],\n",
       " ['1972-03-15', '5.240157475', '4.968503932', '5.511811018', ''],\n",
       " ['1973-03-15', '5.003937003', '4.736220468', '5.271653538', ''],\n",
       " ['1974-03-15', '5.472440939', '5.204724404', '5.740157474', ''],\n",
       " ['1975-03-15', '5.409448813', '5.145669286', '5.673228341', ''],\n",
       " ['1976-03-15', '5.370078735', '5.1023622', '5.63779527', ''],\n",
       " ['1977-03-15', '5.303149601', '5.043307081', '5.56299212', ''],\n",
       " ['1978-03-15', '5.555118105', '5.291338577', '5.818897632', ''],\n",
       " ['1979-03-15', '5.362204719', '5.098425192', '5.625984246', ''],\n",
       " ['1980-03-15', '5.598425191', '5.34251968', '5.854330703', ''],\n",
       " ['1981-03-15', '6.086614167', '5.830708655', '6.342519679', ''],\n",
       " ['1982-03-15', '5.858267711', '5.610236215', '6.106299206', ''],\n",
       " ['1983-03-15', '6.188976372', '5.93307086', '6.444881883', ''],\n",
       " ['1984-03-15', '6.153543301', '5.905511805', '6.401574797', ''],\n",
       " ['1985-03-15', '5.74803149', '5.499999994', '5.996062986', ''],\n",
       " ['1986-03-15', '5.771653537', '5.523622042', '6.019685033', ''],\n",
       " ['1987-03-15', '5.795275585', '5.551181097', '6.039370073', ''],\n",
       " ['1988-03-15', '5.980314955', '5.732283459', '6.22834645', ''],\n",
       " ['1989-03-15', '6.157480309', '5.905511805', '6.409448812', ''],\n",
       " ['1990-03-15', '6.232283458', '5.972440939', '6.492125978', ''],\n",
       " ['1991-03-15', '6.334645663', '6.074803143', '6.594488182', ''],\n",
       " ['1992-03-15', '6.35826771', '6.094488183', '6.622047237', ''],\n",
       " ['1993-03-15', '6.291338576', '6.027559049', '6.555118104', '6.297493046'],\n",
       " ['1994-03-15', '6.499999993', '6.236220466', '6.763779521', '6.310933553'],\n",
       " ['1995-03-15', '6.618110229', '6.354330702', '6.881889757', '6.452568661'],\n",
       " ['1996-03-15', '6.787401568', '6.523622041', '7.051181095', '6.62763131'],\n",
       " ['1997-03-15', '7.066929127', '6.803149599', '7.330708654', '6.733920367'],\n",
       " ['1998-03-15', '6.665354324', '6.393700781', '6.937007867', '6.865806069'],\n",
       " ['1999-03-15', '7.011811016', '6.736220466', '7.287401567', '6.848689771'],\n",
       " ['2000-03-15', '7.062992119', '6.791338576', '7.334645662', '6.920582014'],\n",
       " ['2001-03-15', '7.287401567', '7.019685032', '7.555118103', '7.087460011'],\n",
       " ['2002-03-15', '7.381889756', '7.110236213', '7.653543299', '7.319697525'],\n",
       " ['2003-03-15', '7.759842512', '7.484251961', '8.035433063', '7.488352718'],\n",
       " ['2004-03-15', '7.740157472', '7.464566922', '8.015748023', '7.507932839'],\n",
       " ['2005-03-15', '7.74409448', '7.472440937', '8.015748023', '7.644563144'],\n",
       " ['2006-03-15', '7.917322827', '7.645669284', '8.18897637', '7.697420009'],\n",
       " ['2007-03-15', '7.996062984', '7.712598417', '8.279527551', '7.70214715'],\n",
       " ['2008-03-15', '8.350393692', '8.078740149', '8.622047235', '7.90736541'],\n",
       " ['2009-03-15', '8.586614164', '8.311023614', '8.862204715', '8.04635409'],\n",
       " ['2010-03-15', '8.901574794', '8.618110227', '9.185039361', '8.122972567'],\n",
       " ['2011-03-15', '8.96456692', '8.661417314', '9.267716526', '8.053065004'],\n",
       " ['2012-03-15', '9.326771644', '8.992125975', '9.661417313', '8.457057629'],\n",
       " ['2013-03-15', '8.980314951', '8.622047235', '9.338582668', '8.546648227'],\n",
       " ['2014-03-15', '', '', '', '8.663700393'],\n",
       " ['']]"
      ]
     },
     "execution_count": 304,
     "metadata": {},
     "output_type": "execute_result"
    }
   ],
   "source": [
    "\n",
    "# Here is a testing code to test above function works or not\n",
    "read_csv_using_requests('https://raw.githubusercontent.com/AdmiJW/Items/master/epa-sea-level_csv.csv')\n"
   ]
  },
  {
   "cell_type": "markdown",
   "metadata": {},
   "source": [
    "![Bar](https://github.com/AdmiJW/Items/blob/master/SeperatingBars/Horizontalbar_red.png?raw=true)\n",
    "\n",
    "### 1.2 - Fetching CSV in Pandas Way\n",
    "\n",
    "`pandas` comes with a handful function of reading CSV files provided url. This is way more convenient than fetching it using `requests` as it involves less line of code, and even already prepared a lot of parameter list for us to customize the behavior of CSV fetching!"
   ]
  },
  {
   "cell_type": "code",
   "execution_count": 305,
   "metadata": {},
   "outputs": [],
   "source": [
    "\n",
    "# A wrapper function to simplify the interface of reading CSV using pandas. Only some functionalities are preserved\n",
    "def read_csv_using_pandas( url:str, delimiter:str=',' , header:bool=False ):\n",
    "    if ( len(delimiter) != 1 ):\n",
    "        raise ValueError('Length of delimiter must be 1! Provided: {}'.format(delimiter) )\n",
    "\n",
    "    df = pd.read_csv( url, sep=delimiter, header=0 if header else None)\n",
    "\n",
    "    return df"
   ]
  },
  {
   "cell_type": "code",
   "execution_count": 306,
   "metadata": {},
   "outputs": [
    {
     "data": {
      "text/html": [
       "<div>\n",
       "<style scoped>\n",
       "    .dataframe tbody tr th:only-of-type {\n",
       "        vertical-align: middle;\n",
       "    }\n",
       "\n",
       "    .dataframe tbody tr th {\n",
       "        vertical-align: top;\n",
       "    }\n",
       "\n",
       "    .dataframe thead th {\n",
       "        text-align: right;\n",
       "    }\n",
       "</style>\n",
       "<table border=\"1\" class=\"dataframe\">\n",
       "  <thead>\n",
       "    <tr style=\"text-align: right;\">\n",
       "      <th></th>\n",
       "      <th>Year</th>\n",
       "      <th>CSIRO Adjusted Sea Level</th>\n",
       "      <th>Lower Error Bound</th>\n",
       "      <th>Upper Error Bound</th>\n",
       "      <th>NOAA Adjusted Sea Level</th>\n",
       "    </tr>\n",
       "  </thead>\n",
       "  <tbody>\n",
       "    <tr>\n",
       "      <th>0</th>\n",
       "      <td>1880-03-15</td>\n",
       "      <td>0.000000</td>\n",
       "      <td>-0.952756</td>\n",
       "      <td>0.952756</td>\n",
       "      <td>NaN</td>\n",
       "    </tr>\n",
       "    <tr>\n",
       "      <th>1</th>\n",
       "      <td>1881-03-15</td>\n",
       "      <td>0.220472</td>\n",
       "      <td>-0.732283</td>\n",
       "      <td>1.173228</td>\n",
       "      <td>NaN</td>\n",
       "    </tr>\n",
       "    <tr>\n",
       "      <th>2</th>\n",
       "      <td>1882-03-15</td>\n",
       "      <td>-0.440945</td>\n",
       "      <td>-1.346457</td>\n",
       "      <td>0.464567</td>\n",
       "      <td>NaN</td>\n",
       "    </tr>\n",
       "    <tr>\n",
       "      <th>3</th>\n",
       "      <td>1883-03-15</td>\n",
       "      <td>-0.232283</td>\n",
       "      <td>-1.129921</td>\n",
       "      <td>0.665354</td>\n",
       "      <td>NaN</td>\n",
       "    </tr>\n",
       "    <tr>\n",
       "      <th>4</th>\n",
       "      <td>1884-03-15</td>\n",
       "      <td>0.590551</td>\n",
       "      <td>-0.283465</td>\n",
       "      <td>1.464567</td>\n",
       "      <td>NaN</td>\n",
       "    </tr>\n",
       "    <tr>\n",
       "      <th>...</th>\n",
       "      <td>...</td>\n",
       "      <td>...</td>\n",
       "      <td>...</td>\n",
       "      <td>...</td>\n",
       "      <td>...</td>\n",
       "    </tr>\n",
       "    <tr>\n",
       "      <th>130</th>\n",
       "      <td>2010-03-15</td>\n",
       "      <td>8.901575</td>\n",
       "      <td>8.618110</td>\n",
       "      <td>9.185039</td>\n",
       "      <td>8.122973</td>\n",
       "    </tr>\n",
       "    <tr>\n",
       "      <th>131</th>\n",
       "      <td>2011-03-15</td>\n",
       "      <td>8.964567</td>\n",
       "      <td>8.661417</td>\n",
       "      <td>9.267717</td>\n",
       "      <td>8.053065</td>\n",
       "    </tr>\n",
       "    <tr>\n",
       "      <th>132</th>\n",
       "      <td>2012-03-15</td>\n",
       "      <td>9.326772</td>\n",
       "      <td>8.992126</td>\n",
       "      <td>9.661417</td>\n",
       "      <td>8.457058</td>\n",
       "    </tr>\n",
       "    <tr>\n",
       "      <th>133</th>\n",
       "      <td>2013-03-15</td>\n",
       "      <td>8.980315</td>\n",
       "      <td>8.622047</td>\n",
       "      <td>9.338583</td>\n",
       "      <td>8.546648</td>\n",
       "    </tr>\n",
       "    <tr>\n",
       "      <th>134</th>\n",
       "      <td>2014-03-15</td>\n",
       "      <td>NaN</td>\n",
       "      <td>NaN</td>\n",
       "      <td>NaN</td>\n",
       "      <td>8.663700</td>\n",
       "    </tr>\n",
       "  </tbody>\n",
       "</table>\n",
       "<p>135 rows × 5 columns</p>\n",
       "</div>"
      ],
      "text/plain": [
       "           Year  CSIRO Adjusted Sea Level  Lower Error Bound  \\\n",
       "0    1880-03-15                  0.000000          -0.952756   \n",
       "1    1881-03-15                  0.220472          -0.732283   \n",
       "2    1882-03-15                 -0.440945          -1.346457   \n",
       "3    1883-03-15                 -0.232283          -1.129921   \n",
       "4    1884-03-15                  0.590551          -0.283465   \n",
       "..          ...                       ...                ...   \n",
       "130  2010-03-15                  8.901575           8.618110   \n",
       "131  2011-03-15                  8.964567           8.661417   \n",
       "132  2012-03-15                  9.326772           8.992126   \n",
       "133  2013-03-15                  8.980315           8.622047   \n",
       "134  2014-03-15                       NaN                NaN   \n",
       "\n",
       "     Upper Error Bound  NOAA Adjusted Sea Level  \n",
       "0             0.952756                      NaN  \n",
       "1             1.173228                      NaN  \n",
       "2             0.464567                      NaN  \n",
       "3             0.665354                      NaN  \n",
       "4             1.464567                      NaN  \n",
       "..                 ...                      ...  \n",
       "130           9.185039                 8.122973  \n",
       "131           9.267717                 8.053065  \n",
       "132           9.661417                 8.457058  \n",
       "133           9.338583                 8.546648  \n",
       "134                NaN                 8.663700  \n",
       "\n",
       "[135 rows x 5 columns]"
      ]
     },
     "execution_count": 306,
     "metadata": {},
     "output_type": "execute_result"
    }
   ],
   "source": [
    "\n",
    "# Here is a code snippet to test the function above\n",
    "read_csv_using_pandas('https://raw.githubusercontent.com/AdmiJW/Items/master/epa-sea-level_csv.csv', header=True)"
   ]
  },
  {
   "cell_type": "markdown",
   "metadata": {},
   "source": [
    "![Bar](https://github.com/AdmiJW/Items/blob/master/SeperatingBars/Horizontalbar_blue.png?raw=true)\n",
    "\n",
    "# 2.0 - Fetching the Data and Modifying DataFrame\n",
    "\n",
    "![Bar](https://github.com/AdmiJW/Items/blob/master/SeperatingBars/Horizontalbar_blue.png?raw=true)\n",
    "\n",
    "Now in this section, we are going to fetch the data in the traditional way, and setting the column names, index, and the datatypes of the columns ourselves."
   ]
  },
  {
   "cell_type": "markdown",
   "metadata": {},
   "source": [
    "![Bar](https://github.com/AdmiJW/Items/blob/master/SeperatingBars/Horizontalbar_blue.png?raw=true)\n",
    "\n",
    "### 2.1 - Fetching the Data\n",
    "\n",
    "Fetch the data using the 'traditional' way function defined above"
   ]
  },
  {
   "cell_type": "code",
   "execution_count": 307,
   "metadata": {},
   "outputs": [
    {
     "data": {
      "text/html": [
       "<div>\n",
       "<style scoped>\n",
       "    .dataframe tbody tr th:only-of-type {\n",
       "        vertical-align: middle;\n",
       "    }\n",
       "\n",
       "    .dataframe tbody tr th {\n",
       "        vertical-align: top;\n",
       "    }\n",
       "\n",
       "    .dataframe thead th {\n",
       "        text-align: right;\n",
       "    }\n",
       "</style>\n",
       "<table border=\"1\" class=\"dataframe\">\n",
       "  <thead>\n",
       "    <tr style=\"text-align: right;\">\n",
       "      <th></th>\n",
       "      <th>0</th>\n",
       "      <th>1</th>\n",
       "      <th>2</th>\n",
       "      <th>3</th>\n",
       "      <th>4</th>\n",
       "    </tr>\n",
       "  </thead>\n",
       "  <tbody>\n",
       "    <tr>\n",
       "      <th>0</th>\n",
       "      <td>Year</td>\n",
       "      <td>CSIRO Adjusted Sea Level</td>\n",
       "      <td>Lower Error Bound</td>\n",
       "      <td>Upper Error Bound</td>\n",
       "      <td>NOAA Adjusted Sea Level</td>\n",
       "    </tr>\n",
       "    <tr>\n",
       "      <th>1</th>\n",
       "      <td>1880-03-15</td>\n",
       "      <td>0</td>\n",
       "      <td>-0.952755905</td>\n",
       "      <td>0.952755905</td>\n",
       "      <td></td>\n",
       "    </tr>\n",
       "    <tr>\n",
       "      <th>2</th>\n",
       "      <td>1881-03-15</td>\n",
       "      <td>0.220472441</td>\n",
       "      <td>-0.732283464</td>\n",
       "      <td>1.173228345</td>\n",
       "      <td></td>\n",
       "    </tr>\n",
       "    <tr>\n",
       "      <th>3</th>\n",
       "      <td>1882-03-15</td>\n",
       "      <td>-0.440944881</td>\n",
       "      <td>-1.346456692</td>\n",
       "      <td>0.464566929</td>\n",
       "      <td></td>\n",
       "    </tr>\n",
       "    <tr>\n",
       "      <th>4</th>\n",
       "      <td>1883-03-15</td>\n",
       "      <td>-0.232283464</td>\n",
       "      <td>-1.129921259</td>\n",
       "      <td>0.66535433</td>\n",
       "      <td></td>\n",
       "    </tr>\n",
       "  </tbody>\n",
       "</table>\n",
       "</div>"
      ],
      "text/plain": [
       "            0                         1                  2                  3  \\\n",
       "0        Year  CSIRO Adjusted Sea Level  Lower Error Bound  Upper Error Bound   \n",
       "1  1880-03-15                         0       -0.952755905        0.952755905   \n",
       "2  1881-03-15               0.220472441       -0.732283464        1.173228345   \n",
       "3  1882-03-15              -0.440944881       -1.346456692        0.464566929   \n",
       "4  1883-03-15              -0.232283464       -1.129921259         0.66535433   \n",
       "\n",
       "                         4  \n",
       "0  NOAA Adjusted Sea Level  \n",
       "1                           \n",
       "2                           \n",
       "3                           \n",
       "4                           "
      ]
     },
     "execution_count": 307,
     "metadata": {},
     "output_type": "execute_result"
    }
   ],
   "source": [
    "arrays = read_csv_using_requests('https://raw.githubusercontent.com/AdmiJW/Items/master/epa-sea-level_csv.csv')\n",
    "\n",
    "df = pd.DataFrame(arrays)\n",
    "\n",
    "df.head()"
   ]
  },
  {
   "cell_type": "markdown",
   "metadata": {},
   "source": [
    "![Bar](https://github.com/AdmiJW/Items/blob/master/SeperatingBars/Horizontalbar_blue.png?raw=true)\n",
    "\n",
    "### 2.2 - Set the Column Names\n",
    "\n",
    "The first row of data is actually the column names. Set that and drop the first row afterwards"
   ]
  },
  {
   "cell_type": "code",
   "execution_count": 308,
   "metadata": {},
   "outputs": [
    {
     "data": {
      "text/html": [
       "<div>\n",
       "<style scoped>\n",
       "    .dataframe tbody tr th:only-of-type {\n",
       "        vertical-align: middle;\n",
       "    }\n",
       "\n",
       "    .dataframe tbody tr th {\n",
       "        vertical-align: top;\n",
       "    }\n",
       "\n",
       "    .dataframe thead th {\n",
       "        text-align: right;\n",
       "    }\n",
       "</style>\n",
       "<table border=\"1\" class=\"dataframe\">\n",
       "  <thead>\n",
       "    <tr style=\"text-align: right;\">\n",
       "      <th></th>\n",
       "      <th>Year</th>\n",
       "      <th>CSIRO Adjusted Sea Level</th>\n",
       "      <th>Lower Error Bound</th>\n",
       "      <th>Upper Error Bound</th>\n",
       "      <th>NOAA Adjusted Sea Level</th>\n",
       "    </tr>\n",
       "  </thead>\n",
       "  <tbody>\n",
       "    <tr>\n",
       "      <th>1</th>\n",
       "      <td>1880-03-15</td>\n",
       "      <td>0</td>\n",
       "      <td>-0.952755905</td>\n",
       "      <td>0.952755905</td>\n",
       "      <td></td>\n",
       "    </tr>\n",
       "    <tr>\n",
       "      <th>2</th>\n",
       "      <td>1881-03-15</td>\n",
       "      <td>0.220472441</td>\n",
       "      <td>-0.732283464</td>\n",
       "      <td>1.173228345</td>\n",
       "      <td></td>\n",
       "    </tr>\n",
       "    <tr>\n",
       "      <th>3</th>\n",
       "      <td>1882-03-15</td>\n",
       "      <td>-0.440944881</td>\n",
       "      <td>-1.346456692</td>\n",
       "      <td>0.464566929</td>\n",
       "      <td></td>\n",
       "    </tr>\n",
       "    <tr>\n",
       "      <th>4</th>\n",
       "      <td>1883-03-15</td>\n",
       "      <td>-0.232283464</td>\n",
       "      <td>-1.129921259</td>\n",
       "      <td>0.66535433</td>\n",
       "      <td></td>\n",
       "    </tr>\n",
       "    <tr>\n",
       "      <th>5</th>\n",
       "      <td>1884-03-15</td>\n",
       "      <td>0.590551181</td>\n",
       "      <td>-0.283464567</td>\n",
       "      <td>1.464566928</td>\n",
       "      <td></td>\n",
       "    </tr>\n",
       "  </tbody>\n",
       "</table>\n",
       "</div>"
      ],
      "text/plain": [
       "0        Year CSIRO Adjusted Sea Level Lower Error Bound Upper Error Bound  \\\n",
       "1  1880-03-15                        0      -0.952755905       0.952755905   \n",
       "2  1881-03-15              0.220472441      -0.732283464       1.173228345   \n",
       "3  1882-03-15             -0.440944881      -1.346456692       0.464566929   \n",
       "4  1883-03-15             -0.232283464      -1.129921259        0.66535433   \n",
       "5  1884-03-15              0.590551181      -0.283464567       1.464566928   \n",
       "\n",
       "0 NOAA Adjusted Sea Level  \n",
       "1                          \n",
       "2                          \n",
       "3                          \n",
       "4                          \n",
       "5                          "
      ]
     },
     "execution_count": 308,
     "metadata": {},
     "output_type": "execute_result"
    }
   ],
   "source": [
    "df.columns = df.iloc[0]\n",
    "\n",
    "df.drop( 0, axis=0, inplace=True )\n",
    "\n",
    "df.head()"
   ]
  },
  {
   "cell_type": "markdown",
   "metadata": {},
   "source": [
    "![Bar](https://github.com/AdmiJW/Items/blob/master/SeperatingBars/Horizontalbar_blue.png?raw=true)\n",
    "\n",
    "### 2.3 - Deleting the Last Few Invalid Rows\n",
    "\n",
    "We can see that the last row is either empty or doesn't contain useful data. We can drop them"
   ]
  },
  {
   "cell_type": "code",
   "execution_count": 309,
   "metadata": {},
   "outputs": [],
   "source": [
    "df = df.iloc[:-2]"
   ]
  },
  {
   "cell_type": "markdown",
   "metadata": {},
   "source": [
    "![Bar](https://github.com/AdmiJW/Items/blob/master/SeperatingBars/Horizontalbar_blue.png?raw=true)\n",
    "\n",
    "### 2.4 - Setting the Year Column as Index\n",
    "\n",
    "We shall be identifying each row based on the year that data is recorded. Therefore we set the year column as the index"
   ]
  },
  {
   "cell_type": "code",
   "execution_count": 310,
   "metadata": {},
   "outputs": [
    {
     "name": "stdout",
     "output_type": "stream",
     "text": [
      "<class 'pandas.core.frame.DataFrame'>\n",
      "Index: 134 entries, 1880-03-15 to 2013-03-15\n",
      "Data columns (total 4 columns):\n",
      " #   Column                    Non-Null Count  Dtype \n",
      "---  ------                    --------------  ----- \n",
      " 0   CSIRO Adjusted Sea Level  134 non-null    object\n",
      " 1   Lower Error Bound         134 non-null    object\n",
      " 2   Upper Error Bound         134 non-null    object\n",
      " 3   NOAA Adjusted Sea Level   134 non-null    object\n",
      "dtypes: object(4)\n",
      "memory usage: 2.6+ KB\n"
     ]
    }
   ],
   "source": [
    "df.index = df.Year\n",
    "\n",
    "df.drop('Year', axis=1, inplace=True )\n",
    "\n",
    "df.info()"
   ]
  },
  {
   "cell_type": "markdown",
   "metadata": {},
   "source": [
    "![Bar](https://github.com/AdmiJW/Items/blob/master/SeperatingBars/Horizontalbar_blue.png?raw=true)\n",
    "\n",
    "### 2.5 - Preserve only the Year\n",
    "\n",
    "We can see that for the year column, the month and date are actually repeated, only the year are changing. Therefore we can simplify the column so that it contains only the year"
   ]
  },
  {
   "cell_type": "code",
   "execution_count": 311,
   "metadata": {},
   "outputs": [
    {
     "data": {
      "text/html": [
       "<div>\n",
       "<style scoped>\n",
       "    .dataframe tbody tr th:only-of-type {\n",
       "        vertical-align: middle;\n",
       "    }\n",
       "\n",
       "    .dataframe tbody tr th {\n",
       "        vertical-align: top;\n",
       "    }\n",
       "\n",
       "    .dataframe thead th {\n",
       "        text-align: right;\n",
       "    }\n",
       "</style>\n",
       "<table border=\"1\" class=\"dataframe\">\n",
       "  <thead>\n",
       "    <tr style=\"text-align: right;\">\n",
       "      <th></th>\n",
       "      <th>CSIRO Adjusted Sea Level</th>\n",
       "      <th>Lower Error Bound</th>\n",
       "      <th>Upper Error Bound</th>\n",
       "      <th>NOAA Adjusted Sea Level</th>\n",
       "    </tr>\n",
       "    <tr>\n",
       "      <th>Year</th>\n",
       "      <th></th>\n",
       "      <th></th>\n",
       "      <th></th>\n",
       "      <th></th>\n",
       "    </tr>\n",
       "  </thead>\n",
       "  <tbody>\n",
       "    <tr>\n",
       "      <th>1880</th>\n",
       "      <td>0</td>\n",
       "      <td>-0.952755905</td>\n",
       "      <td>0.952755905</td>\n",
       "      <td></td>\n",
       "    </tr>\n",
       "    <tr>\n",
       "      <th>1881</th>\n",
       "      <td>0.220472441</td>\n",
       "      <td>-0.732283464</td>\n",
       "      <td>1.173228345</td>\n",
       "      <td></td>\n",
       "    </tr>\n",
       "    <tr>\n",
       "      <th>1882</th>\n",
       "      <td>-0.440944881</td>\n",
       "      <td>-1.346456692</td>\n",
       "      <td>0.464566929</td>\n",
       "      <td></td>\n",
       "    </tr>\n",
       "    <tr>\n",
       "      <th>1883</th>\n",
       "      <td>-0.232283464</td>\n",
       "      <td>-1.129921259</td>\n",
       "      <td>0.66535433</td>\n",
       "      <td></td>\n",
       "    </tr>\n",
       "    <tr>\n",
       "      <th>1884</th>\n",
       "      <td>0.590551181</td>\n",
       "      <td>-0.283464567</td>\n",
       "      <td>1.464566928</td>\n",
       "      <td></td>\n",
       "    </tr>\n",
       "  </tbody>\n",
       "</table>\n",
       "</div>"
      ],
      "text/plain": [
       "0    CSIRO Adjusted Sea Level Lower Error Bound Upper Error Bound  \\\n",
       "Year                                                                \n",
       "1880                        0      -0.952755905       0.952755905   \n",
       "1881              0.220472441      -0.732283464       1.173228345   \n",
       "1882             -0.440944881      -1.346456692       0.464566929   \n",
       "1883             -0.232283464      -1.129921259        0.66535433   \n",
       "1884              0.590551181      -0.283464567       1.464566928   \n",
       "\n",
       "0    NOAA Adjusted Sea Level  \n",
       "Year                          \n",
       "1880                          \n",
       "1881                          \n",
       "1882                          \n",
       "1883                          \n",
       "1884                          "
      ]
     },
     "execution_count": 311,
     "metadata": {},
     "output_type": "execute_result"
    }
   ],
   "source": [
    "\n",
    "# Map each date string so that only the first 4 characters (YEar) are obtained\n",
    "substrArr = df.index.map( lambda s: s[:4] )\n",
    "\n",
    "# Set the index, while converting it into data type of int16\n",
    "df.index = substrArr.astype( np.int16 )\n",
    "\n",
    "df.head()"
   ]
  },
  {
   "cell_type": "markdown",
   "metadata": {},
   "source": [
    "![Bar](https://github.com/AdmiJW/Items/blob/master/SeperatingBars/Horizontalbar_blue.png?raw=true)\n",
    "\n",
    "### 2.6 - A Function that Finds Min and Max, or Errors in Numeric Column\n",
    "\n",
    "We can write a function that checks for a column that are supposed to contain numeric data. If it is valid (All numeric data),\n",
    "then return the max and min of the entire column, else it will return the row indices that contain error"
   ]
  },
  {
   "cell_type": "code",
   "execution_count": 312,
   "metadata": {},
   "outputs": [],
   "source": [
    "\n",
    "# If the column is valid, will return [ True, [min, max] ]\n",
    "# Otherwise if column is invalid, will reutrn [ False, [ indices of invalid data...] ]\n",
    "def check_numeric_column( series:pd.Series ) -> List:\n",
    "    result = [ True, list() ]\n",
    "    min_val = float('inf')\n",
    "    max_val = -float('inf')\n",
    "    \n",
    "    # Series requires us to use iloc, and will raise KeyError if we don't. THerefore catch the exception\n",
    "    for i in range( len(series) ):\n",
    "        try:\n",
    "            n = float( series[i] )\n",
    "        except:   \n",
    "            try:\n",
    "                n = float( series.iloc[i] )    # Maybe it is an KeyError. Try to use iloc instead!\n",
    "            except:\n",
    "                result[0] = False\n",
    "                result[1].append(i)\n",
    "                continue\n",
    "        \n",
    "        min_val = min(n, min_val)\n",
    "        max_val = max(n, max_val)\n",
    "    \n",
    "    # If the first item is True, that means column is valid. Append min and max\n",
    "    if result[0]:\n",
    "        result[1].append(min_val)\n",
    "        result[1].append(max_val)\n",
    "\n",
    "    return result\n",
    "            "
   ]
  },
  {
   "cell_type": "code",
   "execution_count": 313,
   "metadata": {},
   "outputs": [
    {
     "data": {
      "text/plain": [
       "[True, [1880.0, 2013.0]]"
      ]
     },
     "execution_count": 313,
     "metadata": {},
     "output_type": "execute_result"
    }
   ],
   "source": [
    "\n",
    "# Testing the above function now\n",
    "check_numeric_column( df.index )\n"
   ]
  },
  {
   "cell_type": "markdown",
   "metadata": {},
   "source": [
    "![Bar](https://github.com/AdmiJW/Items/blob/master/SeperatingBars/Horizontalbar_blue.png?raw=true)\n",
    "\n",
    "### 2.7 - Converting All Columns into Float Datatype\n",
    "\n",
    "All of those columns are supposed to contain floating point values. Therefore we will be converting all of the columns into the respective datatype."
   ]
  },
  {
   "cell_type": "code",
   "execution_count": 314,
   "metadata": {
    "scrolled": true
   },
   "outputs": [
    {
     "name": "stdout",
     "output_type": "stream",
     "text": [
      "[True, [-0.440944881, 9.326771644]]\n"
     ]
    }
   ],
   "source": [
    "\n",
    "##################################\n",
    "# CSIRO Adjusted Sea Level Column\n",
    "##################################\n",
    "\n",
    "print( check_numeric_column( df['CSIRO Adjusted Sea Level'] ) )   # [True, [-0.440944881, 9.326771644] ]\n",
    "\n",
    "df['CSIRO Adjusted Sea Level'] = df['CSIRO Adjusted Sea Level'].astype( np.float64 )\n"
   ]
  },
  {
   "cell_type": "code",
   "execution_count": 315,
   "metadata": {},
   "outputs": [
    {
     "name": "stdout",
     "output_type": "stream",
     "text": [
      "[True, [-1.346456692, 8.992125975]]\n"
     ]
    }
   ],
   "source": [
    "\n",
    "##################################\n",
    "# Lower Error Bound\n",
    "##################################\n",
    "\n",
    "print( check_numeric_column( df['Lower Error Bound'] ) )   # [True, [-1.346456692, 8.992125975] ]\n",
    "\n",
    "df['Lower Error Bound'] = df['Lower Error Bound'].astype( np.float64 )\n"
   ]
  },
  {
   "cell_type": "code",
   "execution_count": 316,
   "metadata": {
    "scrolled": true
   },
   "outputs": [
    {
     "name": "stdout",
     "output_type": "stream",
     "text": [
      "[True, [0.464566929, 9.661417313]]\n"
     ]
    }
   ],
   "source": [
    "\n",
    "##################################\n",
    "# Upper Error Bound\n",
    "##################################\n",
    "\n",
    "print( check_numeric_column( df['Upper Error Bound'] ) )   # [True, [0.464566929, 9.661417313] ]\n",
    "\n",
    "df['Upper Error Bound'] = df['Upper Error Bound'].astype( np.float64 )\n"
   ]
  },
  {
   "cell_type": "code",
   "execution_count": 317,
   "metadata": {},
   "outputs": [
    {
     "name": "stdout",
     "output_type": "stream",
     "text": [
      "[False, [0, 1, 2, 3, 4, 5, 6, 7, 8, 9, 10, 11, 12, 13, 14, 15, 16, 17, 18, 19, 20, 21, 22, 23, 24, 25, 26, 27, 28, 29, 30, 31, 32, 33, 34, 35, 36, 37, 38, 39, 40, 41, 42, 43, 44, 45, 46, 47, 48, 49, 50, 51, 52, 53, 54, 55, 56, 57, 58, 59, 60, 61, 62, 63, 64, 65, 66, 67, 68, 69, 70, 71, 72, 73, 74, 75, 76, 77, 78, 79, 80, 81, 82, 83, 84, 85, 86, 87, 88, 89, 90, 91, 92, 93, 94, 95, 96, 97, 98, 99, 100, 101, 102, 103, 104, 105, 106, 107, 108, 109, 110, 111, 112]]\n",
      "[True, [6.297493046, 8.546648227]]\n"
     ]
    }
   ],
   "source": [
    "\n",
    "##################################\n",
    "# NOAA Adjusted Sea Level\n",
    "##################################\n",
    "\n",
    "print( check_numeric_column( df['NOAA Adjusted Sea Level'] ) )   # [False, [...] ]\n",
    "\n",
    "# The error is mainly due to empty strings. We can see that most of the years does not have entries for NOAA Adjusted Sea Level\n",
    "# until recent years only. Therefore for it to parse correctly, first replace empty strings to np.nan\n",
    "\n",
    "correctedNan = df['NOAA Adjusted Sea Level'].map( lambda x: x if len(x) else np.nan )\n",
    "\n",
    "# Now only it can be interpreted                                         \n",
    "print( check_numeric_column( correctedNan ) )   # [True, [ 6.297493046, 8.546648227] ]\n",
    "\n",
    "\n",
    "# Convert the datatype\n",
    "df['NOAA Adjusted Sea Level'] = correctedNan.astype( np.float64 )\n",
    "\n"
   ]
  },
  {
   "cell_type": "code",
   "execution_count": 318,
   "metadata": {
    "scrolled": true
   },
   "outputs": [
    {
     "name": "stdout",
     "output_type": "stream",
     "text": [
      "<class 'pandas.core.frame.DataFrame'>\n",
      "Int64Index: 134 entries, 1880 to 2013\n",
      "Data columns (total 4 columns):\n",
      " #   Column                    Non-Null Count  Dtype  \n",
      "---  ------                    --------------  -----  \n",
      " 0   CSIRO Adjusted Sea Level  134 non-null    float64\n",
      " 1   Lower Error Bound         134 non-null    float64\n",
      " 2   Upper Error Bound         134 non-null    float64\n",
      " 3   NOAA Adjusted Sea Level   21 non-null     float64\n",
      "dtypes: float64(4)\n",
      "memory usage: 9.2 KB\n"
     ]
    }
   ],
   "source": [
    "df.info()"
   ]
  },
  {
   "cell_type": "markdown",
   "metadata": {},
   "source": [
    "![Bar](https://github.com/AdmiJW/Items/blob/master/SeperatingBars/Horizontalbar_green.png?raw=true)\n",
    "\n",
    "# 3.0 - Plotting\n",
    "\n",
    "![Bar](https://github.com/AdmiJW/Items/blob/master/SeperatingBars/Horizontalbar_green.png?raw=true)\n",
    "\n",
    "Now we have to plot the actual graph. First of all, we are going to plot the scatterplot of the sealevel against year. Then,\n",
    "we will be going to add 2 line of best fit and extrapolate it up until year 2050.\n",
    "* One using data from the beginning of data - year 1880\n",
    "* One using data from the recent years - year 2000\n",
    "\n",
    "Since this involves drawing of straight lines, let's make a little function which takes in gradient, y-intercept, and a x value, to calculate the y value\n"
   ]
  },
  {
   "cell_type": "code",
   "execution_count": 319,
   "metadata": {},
   "outputs": [],
   "source": [
    "\n",
    "\n",
    "# Little function to calculate the y, given m, x and c. ( y = mx + c )\n",
    "\n",
    "def calculate_y( m:float, c:float, x:float )->float:\n",
    "    return m * x + c\n"
   ]
  },
  {
   "cell_type": "code",
   "execution_count": 371,
   "metadata": {},
   "outputs": [],
   "source": [
    "\n",
    "def draw_plot():\n",
    "\n",
    "    sns.set_style('whitegrid')\n",
    "    #########################\n",
    "    # Create scatter plot\n",
    "    #########################\n",
    "    plt.figure( figsize=(16,10) )\n",
    "    \n",
    "    axes = plt.scatter( df.index, df['CSIRO Adjusted Sea Level'], c='#3498db', s=20\\\n",
    "               ,linewidths=1, edgecolors='#2980b9')\n",
    "\n",
    "    \n",
    "    ################################\n",
    "    # Create first line of best fit\n",
    "    #################################\n",
    "    # To get the line of best fit, we need the equation in the form y=mx+c. We need to obtain the gradient, m and the\n",
    "    # y intercept, c which the scipy.stats will do for us!\n",
    "    # After getting the m and c value, we need to draw a straight line, which start from minimum of the years, until 2050.\n",
    "    # We need to obtain the y value for us to be able to plot the line up\n",
    "    \n",
    "    slope, intercept, _, _, _ = stats.linregress( df.index, df['CSIRO Adjusted Sea Level'] ) \n",
    "    \n",
    "    # X and Y values to plot\n",
    "    x_values1 = np.arange( df.index.min(), 2050 )\n",
    "    \n",
    "    y_values1 = [ calculate_y(slope, intercept, x) for x in x_values1 ]\n",
    "\n",
    "    \n",
    "    plt.plot(x_values1, y_values1,'r:', label=f'Extrapolate from Year {df.index.min()}', )\n",
    "    \n",
    "\n",
    "    #####################################\n",
    "    # Create second line of best fit\n",
    "    #####################################\n",
    "    slope, intercept, _, _, _ = stats.linregress( df.loc[2000:].index, df.loc[2000:]['CSIRO Adjusted Sea Level'] )\n",
    "    \n",
    "    # X values to plot\n",
    "    x_values2 = np.arange(2000, 2050 )\n",
    "    # Y values to plot\n",
    "    y_values2 = [ calculate_y(slope, intercept, x) for x in x_values2 ]\n",
    "    \n",
    "    plt.plot( x_values2, y_values2, 'b--', label='Extrapolate from Year 2000')\n",
    "\n",
    "    ##########################\n",
    "    # Add labels and title\n",
    "    ###########################\n",
    "    plt.title('Rise in Sea Level', fontsize='xx-large')\n",
    "    plt.xlabel('Year', fontsize='x-large')\n",
    "    plt.ylabel('Sea Level (inches)', fontsize='x-large')\n",
    "    plt.xticks( [x*25 + 1850 for x in range(10) ] )\n",
    "    plt.legend( fontsize='large', shadow=True, borderpad=1)\n",
    "\n",
    "    \n",
    "    # Save plot and return data for testing (DO NOT MODIFY)\n",
    "    plt.savefig('sea_level_plot.png')\n",
    "    return plt.gca()\n"
   ]
  },
  {
   "cell_type": "code",
   "execution_count": 372,
   "metadata": {
    "scrolled": false
   },
   "outputs": [
    {
     "name": "stdout",
     "output_type": "stream",
     "text": [
      "[-0.5421240249263661, -0.4790794409142336, -0.41603485690210107, -0.35299027288996854, -0.2899456888778218, -0.22690110486568926, -0.16385652085355673, -0.1008119368414242, -0.03776735282929167, 0.025277231182840865, 0.08832181519498761, 0.15136639920712014, 0.21441098321925267, 0.2774555672313852, 0.34050015124351773, 0.40354473525565027, 0.466589319267797, 0.5296339032799295, 0.5926784872920621, 0.6557230713041946, 0.7187676553163271, 0.7818122393284597, 0.8448568233405922, 0.9079014073527389, 0.9709459913648715, 1.033990575377004, 1.0970351593891365, 1.160079743401269, 1.2231243274134016, 1.2861689114255483, 1.3492134954376809, 1.4122580794498134, 1.475302663461946, 1.5383472474740785, 1.601391831486211, 1.6644364154983577, 1.7274809995104903, 1.7905255835226228, 1.8535701675347553, 1.9166147515468879, 1.9796593355590204, 2.042703919571167, 2.1057485035832997, 2.168793087595432, 2.2318376716075647, 2.2948822556196973, 2.35792683963183, 2.4209714236439766, 2.484016007656109, 2.5470605916682416, 2.610105175680374, 2.6731497596925067, 2.736194343704639, 2.7992389277167717, 2.8622835117289185, 2.925328095741051, 2.9883726797531835, 3.051417263765316, 3.1144618477774486, 3.177506431789581, 3.240551015801728, 3.3035955998138604, 3.366640183825993, 3.4296847678381255, 3.492729351850258, 3.5557739358623905, 3.6188185198745373, 3.68186310388667, 3.7449076878988024, 3.807952271910935, 3.8709968559230674, 3.9340414399352, 3.9970860239473467, 4.060130607959479, 4.123175191971612, 4.186219775983744, 4.249264359995877, 4.312308944008009, 4.375353528020142, 4.438398112032289, 4.501442696044421, 4.564487280056554, 4.627531864068686, 4.690576448080819, 4.753621032092951, 4.816665616105098, 4.879710200117231, 4.942754784129363, 5.005799368141496, 5.068843952153628, 5.131888536165761, 5.194933120177907, 5.25797770419004, 5.3210222882021725, 5.384066872214305, 5.4471114562264376, 5.51015604023857, 5.573200624250717, 5.636245208262849, 5.699289792274982, 5.762334376287114, 5.825378960299247, 5.8884235443113795, 5.951468128323526, 6.014512712335659, 6.077557296347791, 6.140601880359924, 6.203646464372056, 6.266691048384189, 6.329735632396321, 6.392780216408468, 6.455824800420601, 6.518869384432733, 6.581913968444866, 6.644958552456998, 6.708003136469131, 6.771047720481278, 6.83409230449341, 6.897136888505543, 6.960181472517675, 7.023226056529808, 7.08627064054194, 7.149315224554087, 7.2123598085662195, 7.275404392578352, 7.338448976590485, 7.401493560602617, 7.46453814461475, 7.527582728626896, 7.590627312639029, 7.653671896651161, 7.716716480663294, 7.7797610646754265, 7.842805648687559, 7.905850232699706, 7.968894816711838, 8.03193940072397, 8.094983984736103, 8.158028568748236, 8.221073152760368, 8.284117736772501, 8.347162320784648, 8.41020690479678, 8.473251488808913, 8.536296072821045, 8.599340656833178, 8.66238524084531, 8.725429824857457, 8.78847440886959, 8.851518992881722, 8.914563576893855, 8.977608160905987, 9.040652744918134, 9.103697328930252, 9.166741912942399, 9.229786496954517, 9.292831080966664, 9.35587566497881, 9.41892024899093, 9.481964833003076, 9.545009417015194, 9.608054001027341, 9.671098585039488, 9.734143169051606, 9.797187753063753, 9.860232337075871, 9.923276921088018, 9.986321505100136, 10.049366089112283, 10.11241067312443]\n"
     ]
    },
    {
     "data": {
      "text/plain": [
       "<AxesSubplot:title={'center':'Rise in Sea Level'}, xlabel='Year', ylabel='Sea Level (inches)'>"
      ]
     },
     "execution_count": 372,
     "metadata": {},
     "output_type": "execute_result"
    },
    {
     "data": {
      "image/png": "[encoded data removed]",
      "text/plain": [
       "<Figure size 1152x720 with 1 Axes>"
      ]
     },
     "metadata": {},
     "output_type": "display_data"
    }
   ],
   "source": [
    "draw_plot()"
   ]
  },
  {
   "cell_type": "code",
   "execution_count": 377,
   "metadata": {},
   "outputs": [
    {
     "data": {
      "text/plain": [
       "8.96456692"
      ]
     },
     "execution_count": 377,
     "metadata": {},
     "output_type": "execute_result"
    }
   ],
   "source": [
    "df.iloc[-3]['CSIRO Adjusted Sea Level']"
   ]
  },
  {
   "cell_type": "code",
   "execution_count": null,
   "metadata": {},
   "outputs": [],
   "source": []
  },
  {
   "cell_type": "code",
   "execution_count": null,
   "metadata": {},
   "outputs": [],
   "source": []
  }
 ],
 "metadata": {
  "kernelspec": {
   "display_name": "Python 3",
   "language": "python",
   "name": "python3"
  },
  "language_info": {
   "codemirror_mode": {
    "name": "ipython",
    "version": 3
   },
   "file_extension": ".py",
   "mimetype": "text/x-python",
   "name": "python",
   "nbconvert_exporter": "python",
   "pygments_lexer": "ipython3",
   "version": "3.8.2"
  }
 },
 "nbformat": 4,
 "nbformat_minor": 4
}
