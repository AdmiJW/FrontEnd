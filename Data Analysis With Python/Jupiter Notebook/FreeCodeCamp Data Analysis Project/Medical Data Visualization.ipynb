{
 "cells": [
  {
   "cell_type": "markdown",
   "metadata": {},
   "source": [
    "![Bar](https://github.com/AdmiJW/Items/blob/master/SeperatingBars/Horizontalbar_orange.png?raw=true)\n",
    "\n",
    "# 1.0 Medical Data Visualization Set Up\n",
    "\n",
    "![Bar](https://github.com/AdmiJW/Items/blob/master/SeperatingBars/Horizontalbar_orange.png?raw=true)"
   ]
  },
  {
   "cell_type": "markdown",
   "metadata": {},
   "source": [
    "### 1.1 Traditional Way of Reading CSV\n",
    "\n",
    "We can read CSV files from online sources in the more traditional way, using `requests` library.\n",
    "After fetching the csv file, the text has to be parsed, split into lines, then further splitted down into values\n",
    "seperated by the delimiter."
   ]
  },
  {
   "cell_type": "code",
   "execution_count": 182,
   "metadata": {},
   "outputs": [],
   "source": [
    "import requests\n",
    "from typing import *\n",
    "\n",
    "def read_CSV( url: str, delimiter:str =',' ) -> List:\n",
    "\n",
    "    #   Invalid delimiter. Raise an ValueError\n",
    "    if len(delimiter) != 1:\n",
    "        raise ValueError(\"Delimiter must consist of only a single character!\")\n",
    "\n",
    "    response: requests.Response = requests.get( url )\n",
    "    #   Unable to fetch from given URL, raise an ConnectionError\n",
    "    if response.status_code != 200:\n",
    "        raise ConnectionError(\"Unable to fetch the csv file at {}\".format(url) )\n",
    "\n",
    "    #   The csv file fetched does not split the lines for us. Split them based on \\n first\n",
    "    rawCSVTextRows = response.text.split('\\n')\n",
    "\n",
    "    resultList:List = []\n",
    "\n",
    "    for line in rawCSVTextRows:\n",
    "        values = line.split( delimiter )\n",
    "        resultList.append( values )\n",
    "\n",
    "    return resultList"
   ]
  },
  {
   "cell_type": "markdown",
   "metadata": {},
   "source": [
    "---\n",
    "\n",
    "Here is a code snippet to test the above function if it is working:"
   ]
  },
  {
   "cell_type": "code",
   "execution_count": 183,
   "metadata": {
    "scrolled": true
   },
   "outputs": [
    {
     "name": "stdout",
     "output_type": "stream",
     "text": [
      "['id', 'age', 'gender', 'height', 'weight', 'ap_hi', 'ap_lo', 'cholesterol', 'gluc', 'smoke', 'alco', 'active', 'cardio']\n",
      "['0', '18393', '2', '168', '62.0', '110', '80', '1', '1', '0', '0', '1', '0']\n",
      "['1', '20228', '1', '156', '85.0', '140', '90', '3', '1', '0', '0', '1', '1']\n",
      "['2', '18857', '1', '165', '64.0', '130', '70', '3', '1', '0', '0', '0', '1']\n",
      "['3', '17623', '2', '169', '82.0', '150', '100', '1', '1', '0', '0', '1', '1']\n",
      "['4', '17474', '1', '156', '56.0', '100', '60', '1', '1', '0', '0', '0', '0']\n",
      "['8', '21914', '1', '151', '67.0', '120', '80', '2', '2', '0', '0', '0', '0']\n",
      "['9', '22113', '1', '157', '93.0', '130', '80', '3', '1', '0', '0', '1', '0']\n",
      "['12', '22584', '2', '178', '95.0', '130', '90', '3', '3', '0', '0', '1', '1']\n",
      "['13', '17668', '1', '158', '71.0', '110', '70', '1', '1', '0', '0', '1', '0']\n"
     ]
    }
   ],
   "source": [
    "testlist = read_CSV( 'https://raw.githubusercontent.com/AdmiJW/Items/master/medical_examination.csv' )\n",
    "\n",
    "for i in range(10):\n",
    "    print( testlist[i] )"
   ]
  },
  {
   "cell_type": "markdown",
   "metadata": {},
   "source": [
    "---\n",
    "\n",
    "Remember that parsing files in this way and passing it into the `DataFrame` later, will cause all the datatypes to be defaulted to `string` type. Then we have to manually change the datatype ourselves."
   ]
  },
  {
   "cell_type": "markdown",
   "metadata": {},
   "source": [
    "![Bar](https://github.com/AdmiJW/Items/blob/master/SeperatingBars/Horizontalbar_orange.png?raw=true)\n",
    "\n",
    "### 1.2 Panda's way of Reading CSV\n",
    "\n",
    "CSV files can be easily read by using `pandas` library, using `read_csv()` method. It will directly parse the csv file fetched, determine the best suited datatype for all of them, and return a `DataFrame`, which saves us a lot of work!"
   ]
  },
  {
   "cell_type": "code",
   "execution_count": 184,
   "metadata": {},
   "outputs": [],
   "source": [
    "import pandas as pd\n",
    "\n",
    "#    A toned down version of read_csv() from the pandas library. Returns a DataFrame\n",
    "def read_CSV_Pandas( url:str, delimiter=',' ) -> pd.DataFrame:\n",
    "    dataFrame: pd.DataFrame = pd.read_csv( url, sep=delimiter )\n",
    "\n",
    "    return dataFrame"
   ]
  },
  {
   "cell_type": "markdown",
   "metadata": {},
   "source": [
    "---\n",
    "\n",
    "Here's a little code snippet to test if the above function works:"
   ]
  },
  {
   "cell_type": "code",
   "execution_count": 185,
   "metadata": {},
   "outputs": [
    {
     "data": {
      "text/html": [
       "<div>\n",
       "<style scoped>\n",
       "    .dataframe tbody tr th:only-of-type {\n",
       "        vertical-align: middle;\n",
       "    }\n",
       "\n",
       "    .dataframe tbody tr th {\n",
       "        vertical-align: top;\n",
       "    }\n",
       "\n",
       "    .dataframe thead th {\n",
       "        text-align: right;\n",
       "    }\n",
       "</style>\n",
       "<table border=\"1\" class=\"dataframe\">\n",
       "  <thead>\n",
       "    <tr style=\"text-align: right;\">\n",
       "      <th></th>\n",
       "      <th>id</th>\n",
       "      <th>age</th>\n",
       "      <th>gender</th>\n",
       "      <th>height</th>\n",
       "      <th>weight</th>\n",
       "      <th>ap_hi</th>\n",
       "      <th>ap_lo</th>\n",
       "      <th>cholesterol</th>\n",
       "      <th>gluc</th>\n",
       "      <th>smoke</th>\n",
       "      <th>alco</th>\n",
       "      <th>active</th>\n",
       "      <th>cardio</th>\n",
       "    </tr>\n",
       "  </thead>\n",
       "  <tbody>\n",
       "    <tr>\n",
       "      <th>0</th>\n",
       "      <td>0</td>\n",
       "      <td>18393</td>\n",
       "      <td>2</td>\n",
       "      <td>168</td>\n",
       "      <td>62.0</td>\n",
       "      <td>110</td>\n",
       "      <td>80</td>\n",
       "      <td>1</td>\n",
       "      <td>1</td>\n",
       "      <td>0</td>\n",
       "      <td>0</td>\n",
       "      <td>1</td>\n",
       "      <td>0</td>\n",
       "    </tr>\n",
       "    <tr>\n",
       "      <th>1</th>\n",
       "      <td>1</td>\n",
       "      <td>20228</td>\n",
       "      <td>1</td>\n",
       "      <td>156</td>\n",
       "      <td>85.0</td>\n",
       "      <td>140</td>\n",
       "      <td>90</td>\n",
       "      <td>3</td>\n",
       "      <td>1</td>\n",
       "      <td>0</td>\n",
       "      <td>0</td>\n",
       "      <td>1</td>\n",
       "      <td>1</td>\n",
       "    </tr>\n",
       "    <tr>\n",
       "      <th>2</th>\n",
       "      <td>2</td>\n",
       "      <td>18857</td>\n",
       "      <td>1</td>\n",
       "      <td>165</td>\n",
       "      <td>64.0</td>\n",
       "      <td>130</td>\n",
       "      <td>70</td>\n",
       "      <td>3</td>\n",
       "      <td>1</td>\n",
       "      <td>0</td>\n",
       "      <td>0</td>\n",
       "      <td>0</td>\n",
       "      <td>1</td>\n",
       "    </tr>\n",
       "    <tr>\n",
       "      <th>3</th>\n",
       "      <td>3</td>\n",
       "      <td>17623</td>\n",
       "      <td>2</td>\n",
       "      <td>169</td>\n",
       "      <td>82.0</td>\n",
       "      <td>150</td>\n",
       "      <td>100</td>\n",
       "      <td>1</td>\n",
       "      <td>1</td>\n",
       "      <td>0</td>\n",
       "      <td>0</td>\n",
       "      <td>1</td>\n",
       "      <td>1</td>\n",
       "    </tr>\n",
       "    <tr>\n",
       "      <th>4</th>\n",
       "      <td>4</td>\n",
       "      <td>17474</td>\n",
       "      <td>1</td>\n",
       "      <td>156</td>\n",
       "      <td>56.0</td>\n",
       "      <td>100</td>\n",
       "      <td>60</td>\n",
       "      <td>1</td>\n",
       "      <td>1</td>\n",
       "      <td>0</td>\n",
       "      <td>0</td>\n",
       "      <td>0</td>\n",
       "      <td>0</td>\n",
       "    </tr>\n",
       "    <tr>\n",
       "      <th>...</th>\n",
       "      <td>...</td>\n",
       "      <td>...</td>\n",
       "      <td>...</td>\n",
       "      <td>...</td>\n",
       "      <td>...</td>\n",
       "      <td>...</td>\n",
       "      <td>...</td>\n",
       "      <td>...</td>\n",
       "      <td>...</td>\n",
       "      <td>...</td>\n",
       "      <td>...</td>\n",
       "      <td>...</td>\n",
       "      <td>...</td>\n",
       "    </tr>\n",
       "    <tr>\n",
       "      <th>69995</th>\n",
       "      <td>99993</td>\n",
       "      <td>19240</td>\n",
       "      <td>2</td>\n",
       "      <td>168</td>\n",
       "      <td>76.0</td>\n",
       "      <td>120</td>\n",
       "      <td>80</td>\n",
       "      <td>1</td>\n",
       "      <td>1</td>\n",
       "      <td>1</td>\n",
       "      <td>0</td>\n",
       "      <td>1</td>\n",
       "      <td>0</td>\n",
       "    </tr>\n",
       "    <tr>\n",
       "      <th>69996</th>\n",
       "      <td>99995</td>\n",
       "      <td>22601</td>\n",
       "      <td>1</td>\n",
       "      <td>158</td>\n",
       "      <td>126.0</td>\n",
       "      <td>140</td>\n",
       "      <td>90</td>\n",
       "      <td>2</td>\n",
       "      <td>2</td>\n",
       "      <td>0</td>\n",
       "      <td>0</td>\n",
       "      <td>1</td>\n",
       "      <td>1</td>\n",
       "    </tr>\n",
       "    <tr>\n",
       "      <th>69997</th>\n",
       "      <td>99996</td>\n",
       "      <td>19066</td>\n",
       "      <td>2</td>\n",
       "      <td>183</td>\n",
       "      <td>105.0</td>\n",
       "      <td>180</td>\n",
       "      <td>90</td>\n",
       "      <td>3</td>\n",
       "      <td>1</td>\n",
       "      <td>0</td>\n",
       "      <td>1</td>\n",
       "      <td>0</td>\n",
       "      <td>1</td>\n",
       "    </tr>\n",
       "    <tr>\n",
       "      <th>69998</th>\n",
       "      <td>99998</td>\n",
       "      <td>22431</td>\n",
       "      <td>1</td>\n",
       "      <td>163</td>\n",
       "      <td>72.0</td>\n",
       "      <td>135</td>\n",
       "      <td>80</td>\n",
       "      <td>1</td>\n",
       "      <td>2</td>\n",
       "      <td>0</td>\n",
       "      <td>0</td>\n",
       "      <td>0</td>\n",
       "      <td>1</td>\n",
       "    </tr>\n",
       "    <tr>\n",
       "      <th>69999</th>\n",
       "      <td>99999</td>\n",
       "      <td>20540</td>\n",
       "      <td>1</td>\n",
       "      <td>170</td>\n",
       "      <td>72.0</td>\n",
       "      <td>120</td>\n",
       "      <td>80</td>\n",
       "      <td>2</td>\n",
       "      <td>1</td>\n",
       "      <td>0</td>\n",
       "      <td>0</td>\n",
       "      <td>1</td>\n",
       "      <td>0</td>\n",
       "    </tr>\n",
       "  </tbody>\n",
       "</table>\n",
       "<p>70000 rows × 13 columns</p>\n",
       "</div>"
      ],
      "text/plain": [
       "          id    age  gender  height  weight  ap_hi  ap_lo  cholesterol  gluc  \\\n",
       "0          0  18393       2     168    62.0    110     80            1     1   \n",
       "1          1  20228       1     156    85.0    140     90            3     1   \n",
       "2          2  18857       1     165    64.0    130     70            3     1   \n",
       "3          3  17623       2     169    82.0    150    100            1     1   \n",
       "4          4  17474       1     156    56.0    100     60            1     1   \n",
       "...      ...    ...     ...     ...     ...    ...    ...          ...   ...   \n",
       "69995  99993  19240       2     168    76.0    120     80            1     1   \n",
       "69996  99995  22601       1     158   126.0    140     90            2     2   \n",
       "69997  99996  19066       2     183   105.0    180     90            3     1   \n",
       "69998  99998  22431       1     163    72.0    135     80            1     2   \n",
       "69999  99999  20540       1     170    72.0    120     80            2     1   \n",
       "\n",
       "       smoke  alco  active  cardio  \n",
       "0          0     0       1       0  \n",
       "1          0     0       1       1  \n",
       "2          0     0       0       1  \n",
       "3          0     0       1       1  \n",
       "4          0     0       0       0  \n",
       "...      ...   ...     ...     ...  \n",
       "69995      1     0       1       0  \n",
       "69996      0     0       1       1  \n",
       "69997      0     1       0       1  \n",
       "69998      0     0       0       1  \n",
       "69999      0     0       1       0  \n",
       "\n",
       "[70000 rows x 13 columns]"
      ]
     },
     "execution_count": 185,
     "metadata": {},
     "output_type": "execute_result"
    }
   ],
   "source": [
    "testlist = read_CSV_Pandas( 'https://raw.githubusercontent.com/AdmiJW/Items/master/medical_examination.csv' )\n",
    "\n",
    "testlist"
   ]
  },
  {
   "cell_type": "markdown",
   "metadata": {},
   "source": [
    "![Bar](https://github.com/AdmiJW/Items/blob/master/SeperatingBars/Horizontalbar_blue.png?raw=true)\n",
    "\n",
    "# 2.0 Stage #1: Fetching the Data\n",
    "\n",
    "![Bar](https://github.com/AdmiJW/Items/blob/master/SeperatingBars/Horizontalbar_blue.png?raw=true)"
   ]
  },
  {
   "cell_type": "markdown",
   "metadata": {},
   "source": [
    "### 2.1 Fetching the Data\n",
    "\n",
    "Now we will have to determine which method to fetch the data. \n",
    "\n",
    "We will be using the manual method of fetching csv, which returns everything in a list of strings Pass that into the DataFrame constructor, then we will need to clean up the data, changing the datatypes etc"
   ]
  },
  {
   "cell_type": "code",
   "execution_count": 186,
   "metadata": {},
   "outputs": [],
   "source": [
    "import numpy as np\n",
    "import pandas as pd\n",
    "import matplotlib as plt"
   ]
  },
  {
   "cell_type": "code",
   "execution_count": 187,
   "metadata": {},
   "outputs": [
    {
     "data": {
      "text/html": [
       "<div>\n",
       "<style scoped>\n",
       "    .dataframe tbody tr th:only-of-type {\n",
       "        vertical-align: middle;\n",
       "    }\n",
       "\n",
       "    .dataframe tbody tr th {\n",
       "        vertical-align: top;\n",
       "    }\n",
       "\n",
       "    .dataframe thead th {\n",
       "        text-align: right;\n",
       "    }\n",
       "</style>\n",
       "<table border=\"1\" class=\"dataframe\">\n",
       "  <thead>\n",
       "    <tr style=\"text-align: right;\">\n",
       "      <th></th>\n",
       "      <th>0</th>\n",
       "      <th>1</th>\n",
       "      <th>2</th>\n",
       "      <th>3</th>\n",
       "      <th>4</th>\n",
       "      <th>5</th>\n",
       "      <th>6</th>\n",
       "      <th>7</th>\n",
       "      <th>8</th>\n",
       "      <th>9</th>\n",
       "      <th>10</th>\n",
       "      <th>11</th>\n",
       "      <th>12</th>\n",
       "    </tr>\n",
       "  </thead>\n",
       "  <tbody>\n",
       "    <tr>\n",
       "      <th>0</th>\n",
       "      <td>id</td>\n",
       "      <td>age</td>\n",
       "      <td>gender</td>\n",
       "      <td>height</td>\n",
       "      <td>weight</td>\n",
       "      <td>ap_hi</td>\n",
       "      <td>ap_lo</td>\n",
       "      <td>cholesterol</td>\n",
       "      <td>gluc</td>\n",
       "      <td>smoke</td>\n",
       "      <td>alco</td>\n",
       "      <td>active</td>\n",
       "      <td>cardio</td>\n",
       "    </tr>\n",
       "    <tr>\n",
       "      <th>1</th>\n",
       "      <td>0</td>\n",
       "      <td>18393</td>\n",
       "      <td>2</td>\n",
       "      <td>168</td>\n",
       "      <td>62.0</td>\n",
       "      <td>110</td>\n",
       "      <td>80</td>\n",
       "      <td>1</td>\n",
       "      <td>1</td>\n",
       "      <td>0</td>\n",
       "      <td>0</td>\n",
       "      <td>1</td>\n",
       "      <td>0</td>\n",
       "    </tr>\n",
       "    <tr>\n",
       "      <th>2</th>\n",
       "      <td>1</td>\n",
       "      <td>20228</td>\n",
       "      <td>1</td>\n",
       "      <td>156</td>\n",
       "      <td>85.0</td>\n",
       "      <td>140</td>\n",
       "      <td>90</td>\n",
       "      <td>3</td>\n",
       "      <td>1</td>\n",
       "      <td>0</td>\n",
       "      <td>0</td>\n",
       "      <td>1</td>\n",
       "      <td>1</td>\n",
       "    </tr>\n",
       "    <tr>\n",
       "      <th>3</th>\n",
       "      <td>2</td>\n",
       "      <td>18857</td>\n",
       "      <td>1</td>\n",
       "      <td>165</td>\n",
       "      <td>64.0</td>\n",
       "      <td>130</td>\n",
       "      <td>70</td>\n",
       "      <td>3</td>\n",
       "      <td>1</td>\n",
       "      <td>0</td>\n",
       "      <td>0</td>\n",
       "      <td>0</td>\n",
       "      <td>1</td>\n",
       "    </tr>\n",
       "    <tr>\n",
       "      <th>4</th>\n",
       "      <td>3</td>\n",
       "      <td>17623</td>\n",
       "      <td>2</td>\n",
       "      <td>169</td>\n",
       "      <td>82.0</td>\n",
       "      <td>150</td>\n",
       "      <td>100</td>\n",
       "      <td>1</td>\n",
       "      <td>1</td>\n",
       "      <td>0</td>\n",
       "      <td>0</td>\n",
       "      <td>1</td>\n",
       "      <td>1</td>\n",
       "    </tr>\n",
       "    <tr>\n",
       "      <th>...</th>\n",
       "      <td>...</td>\n",
       "      <td>...</td>\n",
       "      <td>...</td>\n",
       "      <td>...</td>\n",
       "      <td>...</td>\n",
       "      <td>...</td>\n",
       "      <td>...</td>\n",
       "      <td>...</td>\n",
       "      <td>...</td>\n",
       "      <td>...</td>\n",
       "      <td>...</td>\n",
       "      <td>...</td>\n",
       "      <td>...</td>\n",
       "    </tr>\n",
       "    <tr>\n",
       "      <th>70000</th>\n",
       "      <td>99999</td>\n",
       "      <td>20540</td>\n",
       "      <td>1</td>\n",
       "      <td>170</td>\n",
       "      <td>72.0</td>\n",
       "      <td>120</td>\n",
       "      <td>80</td>\n",
       "      <td>2</td>\n",
       "      <td>1</td>\n",
       "      <td>0</td>\n",
       "      <td>0</td>\n",
       "      <td>1</td>\n",
       "      <td>0</td>\n",
       "    </tr>\n",
       "    <tr>\n",
       "      <th>70001</th>\n",
       "      <td></td>\n",
       "      <td>None</td>\n",
       "      <td>None</td>\n",
       "      <td>None</td>\n",
       "      <td>None</td>\n",
       "      <td>None</td>\n",
       "      <td>None</td>\n",
       "      <td>None</td>\n",
       "      <td>None</td>\n",
       "      <td>None</td>\n",
       "      <td>None</td>\n",
       "      <td>None</td>\n",
       "      <td>None</td>\n",
       "    </tr>\n",
       "    <tr>\n",
       "      <th>70002</th>\n",
       "      <td></td>\n",
       "      <td>None</td>\n",
       "      <td>None</td>\n",
       "      <td>None</td>\n",
       "      <td>None</td>\n",
       "      <td>None</td>\n",
       "      <td>None</td>\n",
       "      <td>None</td>\n",
       "      <td>None</td>\n",
       "      <td>None</td>\n",
       "      <td>None</td>\n",
       "      <td>None</td>\n",
       "      <td>None</td>\n",
       "    </tr>\n",
       "    <tr>\n",
       "      <th>70003</th>\n",
       "      <td></td>\n",
       "      <td>None</td>\n",
       "      <td>None</td>\n",
       "      <td>None</td>\n",
       "      <td>None</td>\n",
       "      <td>None</td>\n",
       "      <td>None</td>\n",
       "      <td>None</td>\n",
       "      <td>None</td>\n",
       "      <td>None</td>\n",
       "      <td>None</td>\n",
       "      <td>None</td>\n",
       "      <td>None</td>\n",
       "    </tr>\n",
       "    <tr>\n",
       "      <th>70004</th>\n",
       "      <td></td>\n",
       "      <td>None</td>\n",
       "      <td>None</td>\n",
       "      <td>None</td>\n",
       "      <td>None</td>\n",
       "      <td>None</td>\n",
       "      <td>None</td>\n",
       "      <td>None</td>\n",
       "      <td>None</td>\n",
       "      <td>None</td>\n",
       "      <td>None</td>\n",
       "      <td>None</td>\n",
       "      <td>None</td>\n",
       "    </tr>\n",
       "  </tbody>\n",
       "</table>\n",
       "<p>70005 rows × 13 columns</p>\n",
       "</div>"
      ],
      "text/plain": [
       "          0      1       2       3       4      5      6            7     8   \\\n",
       "0         id    age  gender  height  weight  ap_hi  ap_lo  cholesterol  gluc   \n",
       "1          0  18393       2     168    62.0    110     80            1     1   \n",
       "2          1  20228       1     156    85.0    140     90            3     1   \n",
       "3          2  18857       1     165    64.0    130     70            3     1   \n",
       "4          3  17623       2     169    82.0    150    100            1     1   \n",
       "...      ...    ...     ...     ...     ...    ...    ...          ...   ...   \n",
       "70000  99999  20540       1     170    72.0    120     80            2     1   \n",
       "70001          None    None    None    None   None   None         None  None   \n",
       "70002          None    None    None    None   None   None         None  None   \n",
       "70003          None    None    None    None   None   None         None  None   \n",
       "70004          None    None    None    None   None   None         None  None   \n",
       "\n",
       "          9     10      11      12  \n",
       "0      smoke  alco  active  cardio  \n",
       "1          0     0       1       0  \n",
       "2          0     0       1       1  \n",
       "3          0     0       0       1  \n",
       "4          0     0       1       1  \n",
       "...      ...   ...     ...     ...  \n",
       "70000      0     0       1       0  \n",
       "70001   None  None    None    None  \n",
       "70002   None  None    None    None  \n",
       "70003   None  None    None    None  \n",
       "70004   None  None    None    None  \n",
       "\n",
       "[70005 rows x 13 columns]"
      ]
     },
     "execution_count": 187,
     "metadata": {},
     "output_type": "execute_result"
    }
   ],
   "source": [
    "rawStringList = read_CSV( 'https://raw.githubusercontent.com/AdmiJW/Items/master/medical_examination.csv' )\n",
    "\n",
    "df = pd.DataFrame( rawStringList )\n",
    "\n",
    "df"
   ]
  },
  {
   "cell_type": "markdown",
   "metadata": {},
   "source": [
    "---\n",
    "\n",
    "As we can notice, everything doesn't seem right. The column names are included in row1, the last few rows contains invalid data, and the index shall be set as the id of the patients."
   ]
  },
  {
   "cell_type": "code",
   "execution_count": 188,
   "metadata": {},
   "outputs": [
    {
     "name": "stdout",
     "output_type": "stream",
     "text": [
      "<class 'pandas.core.frame.DataFrame'>\n",
      "RangeIndex: 70005 entries, 0 to 70004\n",
      "Data columns (total 13 columns):\n",
      " #   Column  Non-Null Count  Dtype \n",
      "---  ------  --------------  ----- \n",
      " 0   0       70005 non-null  object\n",
      " 1   1       70001 non-null  object\n",
      " 2   2       70001 non-null  object\n",
      " 3   3       70001 non-null  object\n",
      " 4   4       70001 non-null  object\n",
      " 5   5       70001 non-null  object\n",
      " 6   6       70001 non-null  object\n",
      " 7   7       70001 non-null  object\n",
      " 8   8       70001 non-null  object\n",
      " 9   9       70001 non-null  object\n",
      " 10  10      70001 non-null  object\n",
      " 11  11      70001 non-null  object\n",
      " 12  12      70001 non-null  object\n",
      "dtypes: object(13)\n",
      "memory usage: 3.5+ MB\n"
     ]
    }
   ],
   "source": [
    "df.info()"
   ]
  },
  {
   "cell_type": "markdown",
   "metadata": {},
   "source": [
    "---\n",
    "\n",
    "As we can see, all the columns datatype are strings, which can be very space consuming (as Python object, not numpy datatypes)"
   ]
  },
  {
   "cell_type": "markdown",
   "metadata": {},
   "source": [
    "![Bar](https://github.com/AdmiJW/Items/blob/master/SeperatingBars/Horizontalbar_green.png?raw=true)\n",
    "\n",
    "# 3.0 Cleaning Up the Data\n",
    "\n",
    "![Bar](https://github.com/AdmiJW/Items/blob/master/SeperatingBars/Horizontalbar_green.png?raw=true)\n",
    "\n",
    "Now we have some __ACTUAL__ cleaning up to do. Let's see:\n",
    "\n",
    "* Set the correct column names\n",
    "* Set the index of the rows to the patient's id\n",
    "* Delete the few last rows which obviously is empty rows\n",
    "* Set the correct datatypes for each column\n",
    "    \n",
    "We will be seperating those tasks into different chapters.\n",
    "* This chapter for task 1, 2, 3\n",
    "* Correcting datatypes for chapter 4"
   ]
  },
  {
   "cell_type": "markdown",
   "metadata": {},
   "source": [
    "![Bar](https://github.com/AdmiJW/Items/blob/master/SeperatingBars/Horizontalbar_green.png?raw=true)\n",
    "\n",
    "### 3.1 - Correcting column names\n",
    "\n",
    "The column names are loaded as a row data into the `DataFrame`, which it isn't supposed to.\n",
    "\n",
    "Therefore, we will need to set that row as the header, then drop that first row afterwards.\n"
   ]
  },
  {
   "cell_type": "code",
   "execution_count": 189,
   "metadata": {
    "scrolled": false
   },
   "outputs": [
    {
     "name": "stdout",
     "output_type": "stream",
     "text": [
      "Before: \n",
      "   0      1       2       3       4      5      6            7     8      9   \\\n",
      "0  id    age  gender  height  weight  ap_hi  ap_lo  cholesterol  gluc  smoke   \n",
      "1   0  18393       2     168    62.0    110     80            1     1      0   \n",
      "2   1  20228       1     156    85.0    140     90            3     1      0   \n",
      "3   2  18857       1     165    64.0    130     70            3     1      0   \n",
      "4   3  17623       2     169    82.0    150    100            1     1      0   \n",
      "\n",
      "     10      11      12  \n",
      "0  alco  active  cardio  \n",
      "1     0       1       0  \n",
      "2     0       1       1  \n",
      "3     0       0       1  \n",
      "4     0       1       1  \n",
      "After: \n"
     ]
    },
    {
     "data": {
      "text/html": [
       "<div>\n",
       "<style scoped>\n",
       "    .dataframe tbody tr th:only-of-type {\n",
       "        vertical-align: middle;\n",
       "    }\n",
       "\n",
       "    .dataframe tbody tr th {\n",
       "        vertical-align: top;\n",
       "    }\n",
       "\n",
       "    .dataframe thead th {\n",
       "        text-align: right;\n",
       "    }\n",
       "</style>\n",
       "<table border=\"1\" class=\"dataframe\">\n",
       "  <thead>\n",
       "    <tr style=\"text-align: right;\">\n",
       "      <th></th>\n",
       "      <th>id</th>\n",
       "      <th>age</th>\n",
       "      <th>gender</th>\n",
       "      <th>height</th>\n",
       "      <th>weight</th>\n",
       "      <th>ap_hi</th>\n",
       "      <th>ap_lo</th>\n",
       "      <th>cholesterol</th>\n",
       "      <th>gluc</th>\n",
       "      <th>smoke</th>\n",
       "      <th>alco</th>\n",
       "      <th>active</th>\n",
       "      <th>cardio</th>\n",
       "    </tr>\n",
       "  </thead>\n",
       "  <tbody>\n",
       "    <tr>\n",
       "      <th>1</th>\n",
       "      <td>0</td>\n",
       "      <td>18393</td>\n",
       "      <td>2</td>\n",
       "      <td>168</td>\n",
       "      <td>62.0</td>\n",
       "      <td>110</td>\n",
       "      <td>80</td>\n",
       "      <td>1</td>\n",
       "      <td>1</td>\n",
       "      <td>0</td>\n",
       "      <td>0</td>\n",
       "      <td>1</td>\n",
       "      <td>0</td>\n",
       "    </tr>\n",
       "    <tr>\n",
       "      <th>2</th>\n",
       "      <td>1</td>\n",
       "      <td>20228</td>\n",
       "      <td>1</td>\n",
       "      <td>156</td>\n",
       "      <td>85.0</td>\n",
       "      <td>140</td>\n",
       "      <td>90</td>\n",
       "      <td>3</td>\n",
       "      <td>1</td>\n",
       "      <td>0</td>\n",
       "      <td>0</td>\n",
       "      <td>1</td>\n",
       "      <td>1</td>\n",
       "    </tr>\n",
       "    <tr>\n",
       "      <th>3</th>\n",
       "      <td>2</td>\n",
       "      <td>18857</td>\n",
       "      <td>1</td>\n",
       "      <td>165</td>\n",
       "      <td>64.0</td>\n",
       "      <td>130</td>\n",
       "      <td>70</td>\n",
       "      <td>3</td>\n",
       "      <td>1</td>\n",
       "      <td>0</td>\n",
       "      <td>0</td>\n",
       "      <td>0</td>\n",
       "      <td>1</td>\n",
       "    </tr>\n",
       "    <tr>\n",
       "      <th>4</th>\n",
       "      <td>3</td>\n",
       "      <td>17623</td>\n",
       "      <td>2</td>\n",
       "      <td>169</td>\n",
       "      <td>82.0</td>\n",
       "      <td>150</td>\n",
       "      <td>100</td>\n",
       "      <td>1</td>\n",
       "      <td>1</td>\n",
       "      <td>0</td>\n",
       "      <td>0</td>\n",
       "      <td>1</td>\n",
       "      <td>1</td>\n",
       "    </tr>\n",
       "    <tr>\n",
       "      <th>5</th>\n",
       "      <td>4</td>\n",
       "      <td>17474</td>\n",
       "      <td>1</td>\n",
       "      <td>156</td>\n",
       "      <td>56.0</td>\n",
       "      <td>100</td>\n",
       "      <td>60</td>\n",
       "      <td>1</td>\n",
       "      <td>1</td>\n",
       "      <td>0</td>\n",
       "      <td>0</td>\n",
       "      <td>0</td>\n",
       "      <td>0</td>\n",
       "    </tr>\n",
       "  </tbody>\n",
       "</table>\n",
       "</div>"
      ],
      "text/plain": [
       "0 id    age gender height weight ap_hi ap_lo cholesterol gluc smoke alco  \\\n",
       "1  0  18393      2    168   62.0   110    80           1    1     0    0   \n",
       "2  1  20228      1    156   85.0   140    90           3    1     0    0   \n",
       "3  2  18857      1    165   64.0   130    70           3    1     0    0   \n",
       "4  3  17623      2    169   82.0   150   100           1    1     0    0   \n",
       "5  4  17474      1    156   56.0   100    60           1    1     0    0   \n",
       "\n",
       "0 active cardio  \n",
       "1      1      0  \n",
       "2      1      1  \n",
       "3      0      1  \n",
       "4      1      1  \n",
       "5      0      0  "
      ]
     },
     "execution_count": 189,
     "metadata": {},
     "output_type": "execute_result"
    }
   ],
   "source": [
    "# Ensure the first row\n",
    "print(\"Before: \")\n",
    "print( df.head() )\n",
    "\n",
    "\n",
    "# Set the column names by the first row values\n",
    "df.columns = df.iloc[0]\n",
    "\n",
    "\n",
    "# Now drop the first row, in-place\n",
    "df.drop(0, axis=0, inplace=True )\n",
    "\n",
    "# Let's ensure the correctness now\n",
    "print(\"After: \")\n",
    "df.head()"
   ]
  },
  {
   "cell_type": "markdown",
   "metadata": {},
   "source": [
    "![Bar](https://github.com/AdmiJW/Items/blob/master/SeperatingBars/Horizontalbar_green.png?raw=true)\n",
    "\n",
    "### 3.2 - Deleting Last Empty Rows\n",
    "\n",
    "Some of the rows at the tail of the `DataFrame` are empty. We need to remove those. Let's see:"
   ]
  },
  {
   "cell_type": "code",
   "execution_count": 190,
   "metadata": {},
   "outputs": [
    {
     "name": "stdout",
     "output_type": "stream",
     "text": [
      "0         id    age gender height weight ap_hi ap_lo cholesterol  gluc smoke  \\\n",
      "69995  99992  21074      1    165   80.0   150    80           1     1     0   \n",
      "69996  99993  19240      2    168   76.0   120    80           1     1     1   \n",
      "69997  99995  22601      1    158  126.0   140    90           2     2     0   \n",
      "69998  99996  19066      2    183  105.0   180    90           3     1     0   \n",
      "69999  99998  22431      1    163   72.0   135    80           1     2     0   \n",
      "70000  99999  20540      1    170   72.0   120    80           2     1     0   \n",
      "70001          None   None   None   None  None  None        None  None  None   \n",
      "70002          None   None   None   None  None  None        None  None  None   \n",
      "70003          None   None   None   None  None  None        None  None  None   \n",
      "70004          None   None   None   None  None  None        None  None  None   \n",
      "\n",
      "0      alco active cardio  \n",
      "69995     0      1      1  \n",
      "69996     0      1      0  \n",
      "69997     0      1      1  \n",
      "69998     1      0      1  \n",
      "69999     0      0      1  \n",
      "70000     0      1      0  \n",
      "70001  None   None   None  \n",
      "70002  None   None   None  \n",
      "70003  None   None   None  \n",
      "70004  None   None   None  \n"
     ]
    },
    {
     "data": {
      "text/html": [
       "<div>\n",
       "<style scoped>\n",
       "    .dataframe tbody tr th:only-of-type {\n",
       "        vertical-align: middle;\n",
       "    }\n",
       "\n",
       "    .dataframe tbody tr th {\n",
       "        vertical-align: top;\n",
       "    }\n",
       "\n",
       "    .dataframe thead th {\n",
       "        text-align: right;\n",
       "    }\n",
       "</style>\n",
       "<table border=\"1\" class=\"dataframe\">\n",
       "  <thead>\n",
       "    <tr style=\"text-align: right;\">\n",
       "      <th></th>\n",
       "      <th>id</th>\n",
       "      <th>age</th>\n",
       "      <th>gender</th>\n",
       "      <th>height</th>\n",
       "      <th>weight</th>\n",
       "      <th>ap_hi</th>\n",
       "      <th>ap_lo</th>\n",
       "      <th>cholesterol</th>\n",
       "      <th>gluc</th>\n",
       "      <th>smoke</th>\n",
       "      <th>alco</th>\n",
       "      <th>active</th>\n",
       "      <th>cardio</th>\n",
       "    </tr>\n",
       "  </thead>\n",
       "  <tbody>\n",
       "    <tr>\n",
       "      <th>69996</th>\n",
       "      <td>99993</td>\n",
       "      <td>19240</td>\n",
       "      <td>2</td>\n",
       "      <td>168</td>\n",
       "      <td>76.0</td>\n",
       "      <td>120</td>\n",
       "      <td>80</td>\n",
       "      <td>1</td>\n",
       "      <td>1</td>\n",
       "      <td>1</td>\n",
       "      <td>0</td>\n",
       "      <td>1</td>\n",
       "      <td>0</td>\n",
       "    </tr>\n",
       "    <tr>\n",
       "      <th>69997</th>\n",
       "      <td>99995</td>\n",
       "      <td>22601</td>\n",
       "      <td>1</td>\n",
       "      <td>158</td>\n",
       "      <td>126.0</td>\n",
       "      <td>140</td>\n",
       "      <td>90</td>\n",
       "      <td>2</td>\n",
       "      <td>2</td>\n",
       "      <td>0</td>\n",
       "      <td>0</td>\n",
       "      <td>1</td>\n",
       "      <td>1</td>\n",
       "    </tr>\n",
       "    <tr>\n",
       "      <th>69998</th>\n",
       "      <td>99996</td>\n",
       "      <td>19066</td>\n",
       "      <td>2</td>\n",
       "      <td>183</td>\n",
       "      <td>105.0</td>\n",
       "      <td>180</td>\n",
       "      <td>90</td>\n",
       "      <td>3</td>\n",
       "      <td>1</td>\n",
       "      <td>0</td>\n",
       "      <td>1</td>\n",
       "      <td>0</td>\n",
       "      <td>1</td>\n",
       "    </tr>\n",
       "    <tr>\n",
       "      <th>69999</th>\n",
       "      <td>99998</td>\n",
       "      <td>22431</td>\n",
       "      <td>1</td>\n",
       "      <td>163</td>\n",
       "      <td>72.0</td>\n",
       "      <td>135</td>\n",
       "      <td>80</td>\n",
       "      <td>1</td>\n",
       "      <td>2</td>\n",
       "      <td>0</td>\n",
       "      <td>0</td>\n",
       "      <td>0</td>\n",
       "      <td>1</td>\n",
       "    </tr>\n",
       "    <tr>\n",
       "      <th>70000</th>\n",
       "      <td>99999</td>\n",
       "      <td>20540</td>\n",
       "      <td>1</td>\n",
       "      <td>170</td>\n",
       "      <td>72.0</td>\n",
       "      <td>120</td>\n",
       "      <td>80</td>\n",
       "      <td>2</td>\n",
       "      <td>1</td>\n",
       "      <td>0</td>\n",
       "      <td>0</td>\n",
       "      <td>1</td>\n",
       "      <td>0</td>\n",
       "    </tr>\n",
       "  </tbody>\n",
       "</table>\n",
       "</div>"
      ],
      "text/plain": [
       "0         id    age gender height weight ap_hi ap_lo cholesterol gluc smoke  \\\n",
       "69996  99993  19240      2    168   76.0   120    80           1    1     1   \n",
       "69997  99995  22601      1    158  126.0   140    90           2    2     0   \n",
       "69998  99996  19066      2    183  105.0   180    90           3    1     0   \n",
       "69999  99998  22431      1    163   72.0   135    80           1    2     0   \n",
       "70000  99999  20540      1    170   72.0   120    80           2    1     0   \n",
       "\n",
       "0     alco active cardio  \n",
       "69996    0      1      0  \n",
       "69997    0      1      1  \n",
       "69998    1      0      1  \n",
       "69999    0      0      1  \n",
       "70000    0      1      0  "
      ]
     },
     "execution_count": 190,
     "metadata": {},
     "output_type": "execute_result"
    }
   ],
   "source": [
    "\n",
    "# Before:\n",
    "print( df.tail(10) )\n",
    "# Seems like the last 4 rows are empty. Let's change that\n",
    "\n",
    "# Overwriting the df to the new DataFrame with the last empty rows removed\n",
    "df = df.iloc[:-4]\n",
    "\n",
    "# Last checking\n",
    "df.tail()"
   ]
  },
  {
   "cell_type": "markdown",
   "metadata": {},
   "source": [
    "![Bar](https://github.com/AdmiJW/Items/blob/master/SeperatingBars/Horizontalbar_red.png?raw=true)\n",
    "\n",
    "# 4.0 Setting the Correct Datatype\n",
    "\n",
    "![Bar](https://github.com/AdmiJW/Items/blob/master/SeperatingBars/Horizontalbar_red.png?raw=true)\n",
    "\n",
    "Now, we will be setting the datatype of each column one by one. This shall be done so that we can analyse the data without running into problems. All the column datatype are probably strings, which computer cannot analyse it like numbers\n",
    "\n",
    "Before we go parsing each column into a different datatype, we shall check the column if it contains any non parsable data?\n",
    "Let's create a own made function for that"
   ]
  },
  {
   "cell_type": "code",
   "execution_count": 191,
   "metadata": {},
   "outputs": [],
   "source": [
    "#  This function will take in a pandas Series object, and optional setting if the Series should only consist of Positive value\n",
    "#  only\n",
    "#  If the Series is valid (No parsing error), then returns\n",
    "#  List -> [ True, [minValue, maxValue] ]\n",
    "#  Otherwise if the Series contains bad value(s), then it will return\n",
    "#  List -> [ False, [...index of bad value(s) ] ]\n",
    "\n",
    "def checkParsableToInt( data:pd.Series, isPositiveOnly: bool = True)-> List:\n",
    "    resList = [True, []]\n",
    "    dmin = float(\"inf\")\n",
    "    dmax = -float(\"inf\")\n",
    "    \n",
    "    iterator = data.index if hasattr(data, 'index') else range( len(data) )\n",
    "\n",
    "    for i in iterator:\n",
    "        d = data[i]\n",
    "        try:\n",
    "            d = float(d)\n",
    "\n",
    "            if isPositiveOnly and d < 0:\n",
    "                raise AssertionError(\"Contains negative!\")\n",
    "            dmin = min(d, dmin)\n",
    "            dmax = max(d, dmax)\n",
    "        except:\n",
    "            resList[0] = False\n",
    "            resList[1].append(i)\n",
    "\n",
    "    if resList[0]:\n",
    "        resList[1].append(dmin)\n",
    "        resList[1].append(dmax)\n",
    "    return resList\n"
   ]
  },
  {
   "cell_type": "markdown",
   "metadata": {},
   "source": [
    "### ![Bar](https://github.com/AdmiJW/Items/blob/master/SeperatingBars/Horizontalbar_red.png?raw=true)\n",
    "\n",
    "### 4.1 - Id column"
   ]
  },
  {
   "cell_type": "code",
   "execution_count": 192,
   "metadata": {},
   "outputs": [
    {
     "name": "stdout",
     "output_type": "stream",
     "text": [
      "[True, [0.0, 99999.0]]\n"
     ]
    },
    {
     "name": "stderr",
     "output_type": "stream",
     "text": [
      "c:\\users\\acer\\appdata\\local\\programs\\python\\python38-32\\lib\\site-packages\\pandas\\core\\generic.py:5165: SettingWithCopyWarning: \n",
      "A value is trying to be set on a copy of a slice from a DataFrame.\n",
      "Try using .loc[row_indexer,col_indexer] = value instead\n",
      "\n",
      "See the caveats in the documentation: https://pandas.pydata.org/pandas-docs/stable/user_guide/indexing.html#returning-a-view-versus-a-copy\n",
      "  self[name] = value\n"
     ]
    }
   ],
   "source": [
    "####################\n",
    "#   Checking\n",
    "####################\n",
    "print( checkParsableToInt(df.id) )\n",
    "\n",
    "### # As we can see, the indices goes up to 99999, which int32 is the most suitable type for it\n",
    "\n",
    "df.id = df.id.astype( np.int32 )"
   ]
  },
  {
   "cell_type": "markdown",
   "metadata": {},
   "source": [
    "![Bar](https://github.com/AdmiJW/Items/blob/master/SeperatingBars/Horizontalbar_red.png?raw=true)\n",
    "\n",
    "### 4.2 - Age column"
   ]
  },
  {
   "cell_type": "code",
   "execution_count": 193,
   "metadata": {
    "scrolled": false
   },
   "outputs": [
    {
     "name": "stdout",
     "output_type": "stream",
     "text": [
      "[True, [10798.0, 23713.0]]\n",
      "29 64\n"
     ]
    }
   ],
   "source": [
    "####################\n",
    "#   Checking\n",
    "####################\n",
    "print( checkParsableToInt(df.age, True) )      # True, [10798.0, 23713.0] \n",
    "\n",
    "# Wait what? Why does age look so much? A quick look at the readme.md reveals that age is stored in day(s). Let's convert them\n",
    "# into actual ages!\n",
    "\n",
    "df.age = df.age.astype( np.int16 ) // 365\n",
    "df.age = df.age.astype( np.int8 )\n",
    "\n",
    "\n",
    "print( df.age.min(), df.age.max() )"
   ]
  },
  {
   "cell_type": "markdown",
   "metadata": {},
   "source": [
    "![Bar](https://github.com/AdmiJW/Items/blob/master/SeperatingBars/Horizontalbar_red.png?raw=true)\n",
    "\n",
    "### 4.3 - Gender column"
   ]
  },
  {
   "cell_type": "code",
   "execution_count": 194,
   "metadata": {},
   "outputs": [
    {
     "name": "stdout",
     "output_type": "stream",
     "text": [
      "['2' '1' '3']\n"
     ]
    }
   ],
   "source": [
    "####################\n",
    "#   Checking\n",
    "####################\n",
    "print( df.gender.unique() )           # ['2', '1', '3']\n",
    "\n",
    "\n",
    "# Just 1, 2 and 3, which fits well in int8\n",
    "df.gender = df.gender.astype( np.int8 )"
   ]
  },
  {
   "cell_type": "markdown",
   "metadata": {},
   "source": [
    "![Bar](https://github.com/AdmiJW/Items/blob/master/SeperatingBars/Horizontalbar_red.png?raw=true)\n",
    "\n",
    "### 4.4 - Height column"
   ]
  },
  {
   "cell_type": "code",
   "execution_count": 195,
   "metadata": {},
   "outputs": [
    {
     "name": "stdout",
     "output_type": "stream",
     "text": [
      "[True, [55.0, 250.0]]\n"
     ]
    }
   ],
   "source": [
    "####################\n",
    "#   Checking\n",
    "####################\n",
    "print( checkParsableToInt( df.height ) )     # True, [55.0, 250.0]\n",
    "\n",
    "# Let's fit it in int16\n",
    "\n",
    "df.height = df.height.astype( np.int16 )"
   ]
  },
  {
   "cell_type": "markdown",
   "metadata": {},
   "source": [
    "![Bar](https://github.com/AdmiJW/Items/blob/master/SeperatingBars/Horizontalbar_red.png?raw=true)\n",
    "\n",
    "### 4.5- Weight column"
   ]
  },
  {
   "cell_type": "code",
   "execution_count": 196,
   "metadata": {},
   "outputs": [
    {
     "name": "stdout",
     "output_type": "stream",
     "text": [
      "[True, [10.0, 200.0]]\n"
     ]
    }
   ],
   "source": [
    "####################\n",
    "#   Checking\n",
    "####################\n",
    "print( checkParsableToInt( df.weight ) )     # True, [10.0, 200.0]\n",
    "\n",
    "# Let's fit it as int16\n",
    "\n",
    "df.weight = df.weight.astype( np.float32 )\n"
   ]
  },
  {
   "cell_type": "markdown",
   "metadata": {},
   "source": [
    "![Bar](https://github.com/AdmiJW/Items/blob/master/SeperatingBars/Horizontalbar_red.png?raw=true)\n",
    "\n",
    "### 4.6- ap_hi column"
   ]
  },
  {
   "cell_type": "code",
   "execution_count": 197,
   "metadata": {},
   "outputs": [
    {
     "name": "stdout",
     "output_type": "stream",
     "text": [
      "[False, [4608, 16022, 20537, 23989, 25241, 35041, 46628]]\n",
      "4608     -100\n",
      "16022    -115\n",
      "20537    -100\n",
      "23989    -140\n",
      "25241    -120\n",
      "35041    -150\n",
      "46628    -120\n",
      "Name: ap_hi, dtype: object\n",
      "[True, [-150.0, 16020.0]]\n"
     ]
    }
   ],
   "source": [
    "####################\n",
    "#   Checking\n",
    "####################\n",
    "checkResult = checkParsableToInt( df.ap_hi )      \n",
    "print(checkResult)                            # [False, [6525, 22881, 29313, 34295, 36025, 50055, 66571] ]\n",
    "\n",
    "print( df.loc[ checkResult[1], 'ap_hi'] )       # Let's see what's goes wrong. Seems like those data is negative values\n",
    "                                                # Let's take note of those error and handle them at data cleaning stage!\n",
    "    \n",
    "checkResult = checkParsableToInt( df.ap_hi, False )\n",
    "print( checkResult )                         # [True, [-150.0, 16020.0] ]\n",
    "                                             # No other problems than the negative values. Let's change to int16\n",
    "    \n",
    "df.ap_hi = df.ap_hi.astype( np.int16 )"
   ]
  },
  {
   "cell_type": "markdown",
   "metadata": {},
   "source": [
    "![Bar](https://github.com/AdmiJW/Items/blob/master/SeperatingBars/Horizontalbar_red.png?raw=true)\n",
    "\n",
    "### 4.6- ap_lo column"
   ]
  },
  {
   "cell_type": "code",
   "execution_count": 198,
   "metadata": {},
   "outputs": [
    {
     "name": "stdout",
     "output_type": "stream",
     "text": [
      "[False, [60107]]\n",
      "60107    -70\n",
      "Name: ap_lo, dtype: object\n",
      "[True, [-70.0, 11000.0]]\n"
     ]
    }
   ],
   "source": [
    "####################\n",
    "#   Checking\n",
    "####################\n",
    "checkResult = checkParsableToInt( df.ap_lo) \n",
    "print( checkResult )                         # [False, [85816] ]\n",
    "                                             # We got a problem again. Let's peek into it\n",
    "\n",
    "print( df.ap_lo.loc[checkResult[1] ] )       # Seems like above problem, we've got a negative value here.\n",
    "\n",
    "checkResult = checkParsableToInt( df.ap_lo, False )\n",
    "print( checkResult )                         # [True, [-70.0, 11000.0] ]\n",
    "\n",
    "# Therefore, let's convert to int16 for it\n",
    "\n",
    "df.ap_lo = df.ap_lo.astype( np.int16 )"
   ]
  },
  {
   "cell_type": "markdown",
   "metadata": {},
   "source": [
    "![Bar](https://github.com/AdmiJW/Items/blob/master/SeperatingBars/Horizontalbar_red.png?raw=true)\n",
    "\n",
    "### 4.7 - Cholesterol column"
   ]
  },
  {
   "cell_type": "code",
   "execution_count": 199,
   "metadata": {},
   "outputs": [
    {
     "name": "stdout",
     "output_type": "stream",
     "text": [
      "['1' '3' '2']\n"
     ]
    }
   ],
   "source": [
    "####################\n",
    "#   Checking\n",
    "####################\n",
    "print( df.cholesterol.unique() )        # ['1', '3', '2']\n",
    "\n",
    "\n",
    "# Go ahead and parse it to int8\n",
    "\n",
    "df.cholesterol = df.cholesterol.astype( np.int8 )"
   ]
  },
  {
   "cell_type": "markdown",
   "metadata": {},
   "source": [
    "![Bar](https://github.com/AdmiJW/Items/blob/master/SeperatingBars/Horizontalbar_red.png?raw=true)\n",
    "\n",
    "### 4.8 - Glucose column"
   ]
  },
  {
   "cell_type": "code",
   "execution_count": 200,
   "metadata": {},
   "outputs": [
    {
     "name": "stdout",
     "output_type": "stream",
     "text": [
      "['1' '2' '3']\n"
     ]
    }
   ],
   "source": [
    "####################\n",
    "#   Checking\n",
    "####################\n",
    "print( df.gluc.unique() )        # ['1', '3', '2']\n",
    "\n",
    "\n",
    "# Go ahead and parse it to int8\n",
    "\n",
    "df.gluc = df.gluc.astype( np.int8 )"
   ]
  },
  {
   "cell_type": "markdown",
   "metadata": {},
   "source": [
    "![Bar](https://github.com/AdmiJW/Items/blob/master/SeperatingBars/Horizontalbar_red.png?raw=true)\n",
    "\n",
    "### 4.9 - Smoking, Alcohol Intake, Physical Activity and Cardiovascular Disease column"
   ]
  },
  {
   "cell_type": "code",
   "execution_count": 201,
   "metadata": {},
   "outputs": [
    {
     "name": "stdout",
     "output_type": "stream",
     "text": [
      "['0' '1']\n",
      "['0' '1']\n",
      "['1' '0']\n",
      "['0' '1']\n"
     ]
    }
   ],
   "source": [
    "####################\n",
    "#   Checking\n",
    "####################\n",
    "print( df.smoke.unique() )\n",
    "print( df.alco.unique() )\n",
    "print( df.active.unique() )\n",
    "print( df.cardio.unique() )           # All are STRING boolean values of 0 and 1.\n",
    "\n",
    "# Let's parse them into np.int8 type\n",
    "df = df.astype( {\"smoke\": np.int8, \"alco\": np.int8, \"active\": np.int8, \"cardio\": np.int8} )\n",
    "\n",
    "\n",
    "# After they have been converted to int8 of 0 and 1 only, we can easily parse them again into bool type, but for the sake of\n",
    "# this project, let's don't do it\n",
    "\n",
    "#     df = df.astype( {\"smoke\": np.bool_, \"alco\": np.bool_, \"active\": bool, \"cardio\": bool} )\n",
    "\n"
   ]
  },
  {
   "cell_type": "markdown",
   "metadata": {},
   "source": [
    "![Bar](https://github.com/AdmiJW/Items/blob/master/SeperatingBars/Horizontalbar_orange.png?raw=true)\n",
    "\n",
    "# 5.0 - Tackling Task #1\n",
    "\n",
    "![Bar](https://github.com/AdmiJW/Items/blob/master/SeperatingBars/Horizontalbar_orange.png?raw=true)\n",
    "\n",
    "Now we have 2 tasks to do with the data in current ready state:\n",
    "* Normalize data on Glucose and Cholesterol column. 1 goes to 0, 2 and 3 goes to 1\n",
    "* Add overweight column - 0 for NOT overweight, 1 for overweight"
   ]
  },
  {
   "cell_type": "markdown",
   "metadata": {},
   "source": [
    "![Bar](https://github.com/AdmiJW/Items/blob/master/SeperatingBars/Horizontalbar_orange.png?raw=true)\n",
    "\n",
    "### 5.1 - Normalize data\n",
    "\n",
    "To change all values from 1 to 0, and 2, 3 to 1, we can simply use the panda's `replace` method, or `map`. It's the same either way"
   ]
  },
  {
   "cell_type": "code",
   "execution_count": 202,
   "metadata": {},
   "outputs": [],
   "source": [
    "mapper = { 1:0, 2:1, 3:1 }\n",
    "\n",
    "df.cholesterol = df.cholesterol.map( mapper )\n",
    "\n",
    "df.gluc = df.gluc.replace( mapper )\n",
    "\n"
   ]
  },
  {
   "cell_type": "markdown",
   "metadata": {},
   "source": [
    "![Bar](https://github.com/AdmiJW/Items/blob/master/SeperatingBars/Horizontalbar_orange.png?raw=true)\n",
    "\n",
    "### 5.2 - Add Overweight column\n",
    "\n",
    "Remember. Calculate the BMI ( kg / m^2 ), if the value is over 25, it is considered overweight and value assigned shall be 1, otherwise 0"
   ]
  },
  {
   "cell_type": "code",
   "execution_count": 203,
   "metadata": {},
   "outputs": [],
   "source": [
    "# Obtain the weights column and height column, but squared\n",
    "weights = df.weight\n",
    "heights_squared = (df.height / 100) ** 2\n",
    "\n",
    "# Create a boolean mask which is True for those overweight, and False for those who doesn't\n",
    "overweight = (weights / heights_squared) > 25\n",
    "\n",
    "# Replace True values with 1 (Overweight), while False with 0 (Not overweight)\n",
    "overweight = overweight.map( { False: 0, True: 1} ).astype( np.int8 )\n",
    "\n",
    "# Now insert it into the DataFrame\n",
    "df['overweight'] = overweight"
   ]
  },
  {
   "cell_type": "markdown",
   "metadata": {},
   "source": [
    "![Bar](https://github.com/AdmiJW/Items/blob/master/SeperatingBars/Horizontalbar_red.png?raw=true)\n",
    "\n",
    "# 6.0 - Tackling Task #2 - Catplot\n",
    "\n",
    "![Bar](https://github.com/AdmiJW/Items/blob/master/SeperatingBars/Horizontalbar_red.png?raw=true)\n",
    "\n",
    "We have to make a categorical plot. The plot will consist of 2 subplots, one for those with cardiovascular disease, and one for those who doesn't.\n",
    "\n",
    "In each plot, it will plot the other categorical datas (at x-axis)\n",
    "* `active`\n",
    "* `alco`\n",
    "* `cholesterol`\n",
    "* `gluc`\n",
    "* `overweight`\n",
    "* `smoke`\n",
    "\n",
    "which each category consist of 2 bars: 0 and 1 values"
   ]
  },
  {
   "cell_type": "markdown",
   "metadata": {},
   "source": [
    "![Bar](https://github.com/AdmiJW/Items/blob/master/SeperatingBars/Horizontalbar_red.png?raw=true)\n",
    "\n",
    "### 6.1 - Plotting the chart"
   ]
  },
  {
   "cell_type": "code",
   "execution_count": 204,
   "metadata": {},
   "outputs": [],
   "source": [
    "# If we haven't already, import those visualization libraries!\n",
    "\n",
    "import matplotlib.pyplot as plt\n",
    "import seaborn as sns\n"
   ]
  },
  {
   "cell_type": "code",
   "execution_count": 212,
   "metadata": {},
   "outputs": [],
   "source": [
    "\n",
    "# We will be drawing it in a function\n",
    "\n",
    "def draw_cat_plot():\n",
    "    # Create DataFrame for cat plot using `pd.melt` using just the values from 'cholesterol', 'gluc', 'smoke', 'alco', 'active', and 'overweight'.\n",
    "    # melt() basically creates a new DataFrame in LONG FORMAT\n",
    "    df_cat = df.melt(\n",
    "           id_vars = ['id', 'cardio'],\n",
    "           value_vars = ['active', 'alco', 'cholesterol', 'gluc', 'overweight', 'smoke'],\n",
    "           var_name = 'variable'\n",
    "    )\n",
    "\n",
    "\n",
    "    # Draw the catplot with 'sns.catplot()'\n",
    "    facet_grid = sns.catplot(\n",
    "        x = 'variable',\n",
    "        hue = 'value',\n",
    "        data = df_cat,\n",
    "        col = 'cardio',\n",
    "        kind = 'count',\n",
    "        legend = True\n",
    "    )\n",
    "    \n",
    "    facet_grid.set_ylabels('total')\n",
    "\n",
    "\n",
    "    facet_grid.savefig('catplot.png')\n",
    "    return facet_grid"
   ]
  },
  {
   "cell_type": "code",
   "execution_count": 213,
   "metadata": {},
   "outputs": [
    {
     "data": {
      "text/plain": [
       "<seaborn.axisgrid.FacetGrid at 0x20241178>"
      ]
     },
     "execution_count": 213,
     "metadata": {},
     "output_type": "execute_result"
    },
    {
     "data": {
      "image/png": "[encoded data removed]",
      "text/plain": [
       "<Figure size 764.766x360 with 2 Axes>"
      ]
     },
     "metadata": {
      "needs_background": "light"
     },
     "output_type": "display_data"
    }
   ],
   "source": [
    "draw_cat_plot()"
   ]
  },
  {
   "cell_type": "markdown",
   "metadata": {},
   "source": [
    "![Bar](https://github.com/AdmiJW/Items/blob/master/SeperatingBars/Horizontalbar_purple.png?raw=true)\n",
    "\n",
    "# 7.0 - Clean Patient Data\n",
    "\n",
    "![Bar](https://github.com/AdmiJW/Items/blob/master/SeperatingBars/Horizontalbar_purple.png?raw=true)\n",
    "\n",
    "In this section, we will be cleaning patient datas:\n",
    "* Diastolic > Systolic   ( Note some of them are negative, which also needs to be eliminated!)\n",
    "* Height less than 2.5th percentile\n",
    "* Height more than 97.5th percentile\n",
    "* Weight less than 2.5th percentile\n",
    "* Weight more than 97.5th percentile"
   ]
  },
  {
   "cell_type": "markdown",
   "metadata": {},
   "source": [
    "![Bar](https://github.com/AdmiJW/Items/blob/master/SeperatingBars/Horizontalbar_purple.png?raw=true)\n",
    "\n",
    "### 7.1 - Diastolic > Systolic, and Negative values\n",
    "\n",
    "It's impossible for a blood pressure to go below negative! Also, diastolic BP (When the heart relaxes) shall never be higher than the systolic BP (When the heart contracts).\n",
    "For those rows, we will be dropping them (filtering them)"
   ]
  },
  {
   "cell_type": "code",
   "execution_count": 214,
   "metadata": {},
   "outputs": [
    {
     "name": "stdout",
     "output_type": "stream",
     "text": [
      "1235\n"
     ]
    }
   ],
   "source": [
    "\n",
    "bpMask = (df.ap_lo < 0) | (df.ap_hi < 0) | (df.ap_lo > df.ap_hi)\n",
    "\n",
    "print( bpMask.sum() )     # 1235, We have 1235 rows to drop!\n",
    "\n",
    "bpIndexToDrop = df.loc[ bpMask ].index     # Get the indices of the rows to drop\n",
    "\n",
    "df.drop( bpIndexToDrop, inplace=True)      # Now drop the rows in place!\n"
   ]
  },
  {
   "cell_type": "markdown",
   "metadata": {},
   "source": [
    "![Bar](https://github.com/AdmiJW/Items/blob/master/SeperatingBars/Horizontalbar_purple.png?raw=true)\n",
    "\n",
    "### 7.2 - Height is less than 2.5th percentile and greater than 97.5th percentile\n",
    "\n",
    "From previous section, we see that the lowest height is 55cm, while the highest height is 250cm. Seems like not too realistic isn't it?\n",
    "\n",
    "No matter what, we shall be filtering those rows."
   ]
  },
  {
   "cell_type": "code",
   "execution_count": 215,
   "metadata": {},
   "outputs": [
    {
     "name": "stdout",
     "output_type": "stream",
     "text": [
      "150.0 180.0\n",
      "Columns to drop:  2907\n"
     ]
    }
   ],
   "source": [
    "\n",
    "lowPercentile = np.percentile( df.height, 2.5 )     # 2 Different ways to compute. Using numpy native function, and using\n",
    "highPercentile = df.height.quantile( 0.975 )        # Pandas object method\n",
    "\n",
    "print( lowPercentile, highPercentile )              # 150.0    180.0\n",
    "\n",
    "heightMask = (df.height < lowPercentile) | (df.height > highPercentile)\n",
    "heightIndexToDrop = df.height.loc[ heightMask ].index\n",
    "\n",
    "print(\"Columns to drop: \", heightMask.sum() )        # We have another 2907 columns to drop\n",
    "\n",
    "# Drop the rows\n",
    "df.drop( heightIndexToDrop, inplace=True )\n"
   ]
  },
  {
   "cell_type": "markdown",
   "metadata": {},
   "source": [
    "![Bar](https://github.com/AdmiJW/Items/blob/master/SeperatingBars/Horizontalbar_purple.png?raw=true)\n",
    "\n",
    "### 7.3 - Weight is less than 2.5th percentile and greater than 97.5th percentile\n",
    "\n",
    "From previous section, we see that the lowest weight is 10.0kg, while the highest height is 200.0kg. Seems like not too realistic isn't it?\n",
    "\n",
    "No matter what, we shall be filtering those rows."
   ]
  },
  {
   "cell_type": "code",
   "execution_count": 216,
   "metadata": {},
   "outputs": [
    {
     "name": "stdout",
     "output_type": "stream",
     "text": [
      "52.0 106.0\n",
      "3075\n"
     ]
    }
   ],
   "source": [
    "\n",
    "lowPercentile = np.percentile( df.weight, 2.5 )\n",
    "highPercentile = df.weight.quantile( 0.975 )\n",
    "\n",
    "print( lowPercentile, highPercentile )          # 52.0    106.0\n",
    "\n",
    "heightMask = (df.weight < lowPercentile) | (df.weight > highPercentile)\n",
    "heightIndexToDrop = df.height.loc[heightMask].index\n",
    "\n",
    "print( heightMask.sum() )     # Seems like we got 3075 rows to drop\n",
    "\n",
    "df.drop( heightIndexToDrop, inplace=True)\n"
   ]
  },
  {
   "cell_type": "markdown",
   "metadata": {},
   "source": [
    "![Bar](https://github.com/AdmiJW/Items/blob/master/SeperatingBars/Horizontalbar_darkred.png?raw=true)\n",
    "\n",
    "# 8.0 - Tackling Task #3 - Heatmap\n",
    "\n",
    "![Bar](https://github.com/AdmiJW/Items/blob/master/SeperatingBars/Horizontalbar_darkred.png?raw=true)\n",
    "\n",
    "Now the data is cleaned and ready to be analysed! The final task for us is to:\n",
    "* Create a correlation matrix based on current DataFrame\n",
    "* Mask the upper triangle\n",
    "* Draw out the heatmap"
   ]
  },
  {
   "cell_type": "code",
   "execution_count": 217,
   "metadata": {},
   "outputs": [],
   "source": [
    "\n",
    "\n",
    "def draw_heat_map():\n",
    "    \n",
    "    df_heat = df.copy()\n",
    "    \n",
    "    bpToDrop = (df.ap_hi < df.ap_lo)\n",
    "    \n",
    "    heightLowQuartile = df.height.quantile(0.025)\n",
    "    heightHighQuartile = np.percentile( df.height, 97.5 )\n",
    "\n",
    "    heightToDropMask = (df.height < heightLowQuartile) | (df.height > heightHighQuartile)\n",
    "    \n",
    "    weightLowQuartile = df.weight.quantile(0.025)\n",
    "    weightHighQuartile = np.percentile( df.weight, 97.5 )\n",
    "\n",
    "    weightToDropMask = (df.weight < weightLowQuartile) | (df.weight > weightHighQuartile)\n",
    "    \n",
    "    combinedToDropMask = df.loc[ bpToDrop | heightToDropMask | weightToDropMask ]\n",
    "\n",
    "    df_heat.drop( combinedToDropMask.index, inplace=True )\n",
    "\n",
    "    # Calculate the correlation matrix\n",
    "    corr = df_heat.corr()\n",
    "\n",
    "    # Generate a mask for the upper triangle\n",
    "    mask = np.zeros_like(corr)\n",
    "    mask[ np.triu_indices_from( df_heat) ] = True\n",
    "\n",
    "    # Set up the matplotlib figure\n",
    "    fig = plt.figure( figsize=(12,8) )\n",
    "\n",
    "    # Draw the heatmap with 'sns.heatmap()'\n",
    "    sns.heatmap(\n",
    "        data = corr,\n",
    "        annot = True,\n",
    "        mask = mask,\n",
    "        fmt = '.1f',\n",
    "        linewidths=.5\n",
    "    )\n",
    "\n",
    "    # Do not modify the next two lines\n",
    "    fig.savefig('heatmap.png')\n",
    "    return fig"
   ]
  },
  {
   "cell_type": "code",
   "execution_count": 218,
   "metadata": {},
   "outputs": [
    {
     "data": {
      "image/png": "[encoded data removed]",
      "text/plain": [
       "<Figure size 864x576 with 2 Axes>"
      ]
     },
     "execution_count": 218,
     "metadata": {},
     "output_type": "execute_result"
    },
    {
     "data": {
      "image/png": "[encoded data removed]",
      "text/plain": [
       "<Figure size 864x576 with 2 Axes>"
      ]
     },
     "metadata": {
      "needs_background": "light"
     },
     "output_type": "display_data"
    }
   ],
   "source": [
    "draw_heat_map()"
   ]
  },
  {
   "cell_type": "code",
   "execution_count": null,
   "metadata": {},
   "outputs": [],
   "source": []
  }
 ],
 "metadata": {
  "kernelspec": {
   "display_name": "Python 3",
   "language": "python",
   "name": "python3"
  },
  "language_info": {
   "codemirror_mode": {
    "name": "ipython",
    "version": 3
   },
   "file_extension": ".py",
   "mimetype": "text/x-python",
   "name": "python",
   "nbconvert_exporter": "python",
   "pygments_lexer": "ipython3",
   "version": "3.8.2"
  }
 },
 "nbformat": 4,
 "nbformat_minor": 4
}
